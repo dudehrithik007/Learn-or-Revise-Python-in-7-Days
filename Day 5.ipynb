{
 "cells": [
  {
   "cell_type": "code",
   "execution_count": 1,
   "id": "1d6ec11c",
   "metadata": {},
   "outputs": [],
   "source": [
    "# Another Feature of Python: Decorators:"
   ]
  },
  {
   "cell_type": "code",
   "execution_count": 2,
   "id": "83661ba4",
   "metadata": {},
   "outputs": [
    {
     "name": "stdout",
     "output_type": "stream",
     "text": [
      "2.0\n"
     ]
    }
   ],
   "source": [
    "# Lets Say we have this file and we have a predefined function:\n",
    "\n",
    "def div(a,b):\n",
    "    print(a/b)\n",
    "div(4,2)"
   ]
  },
  {
   "cell_type": "code",
   "execution_count": 3,
   "id": "05fca2dd",
   "metadata": {},
   "outputs": [
    {
     "name": "stdout",
     "output_type": "stream",
     "text": [
      "0.5\n"
     ]
    }
   ],
   "source": [
    "# we wanted the answer 2.0 above and we got that. Now:\n",
    "div(2,4)"
   ]
  },
  {
   "cell_type": "code",
   "execution_count": 4,
   "id": "87a807f0",
   "metadata": {},
   "outputs": [
    {
     "name": "stdout",
     "output_type": "stream",
     "text": [
      "2.0\n"
     ]
    }
   ],
   "source": [
    "# we expected 0.5 and we got that output. Now what if I say I want a different logic here. The logic I want here is:\n",
    "# It doesn't matter in which sequence/what order I pass the values, the num > den always. So, if i'm passing 2 and 4, it should\n",
    "# be reversed while dividing, only when num < den, I wanna swap them. We can do:\n",
    "def div(a,b):\n",
    "    if a < b:\n",
    "        a,b = b,a\n",
    "    print(a/b)\n",
    "div(2,4)"
   ]
  },
  {
   "cell_type": "code",
   "execution_count": 8,
   "id": "d57a038e",
   "metadata": {},
   "outputs": [
    {
     "name": "stdout",
     "output_type": "stream",
     "text": [
      "2.0\n"
     ]
    }
   ],
   "source": [
    "# Now imagine that the division code is not with me, this is in some other file and I'm importing it. Maybe I don't have the\n",
    "# access for this function. Maybe I don't wanna change the code of the existing function. So, I want you to swap those two\n",
    "# values without touching the new function - is it possible? That's where decorators come into picture.\n",
    "\n",
    "# Using Decorators we can add extra features in the existing functions. We can change the behaviour of the existing function at the compile time itself.\n",
    "\n",
    "def div(a,b):\n",
    "    print(a/b)\n",
    "    \n",
    "def smart_div(func): # We are calling(func) div() in this(smart_div()) function, so in the return of the innerfunct(), we pass the 2 values a,b new ones after interchanging\n",
    "# Created a new function which is gonna be the decorator/change the code for div().\n",
    "# smart_div will take div as the function or as the parameter - it will accept a function.\n",
    "# Now as we wanna change the logic we need to write some code - so I wanna do that in another function - so we can create a function within/inside a function.\n",
    "    def innerfunct(a,b): # These are the original values a,b and in the return we are passing the new values after the swap\n",
    "# This innerfunct() function will take the same parameters as div() (no. of parameters should be same)\n",
    "#- can have any parameters' name same or different.\n",
    "# Here we can write the logic (swapping one) which we were writing in the above block in div().\n",
    "        if a < b:\n",
    "            a,b = b,a\n",
    "# So we have created a function and within that function another function which is doing our job. The above 2 lines is the code that I wanna have inside div().\n",
    "        return func(a,b) # So, the original values were 2 and 4 and after swapping we are passing 4 and 2. So, here we are passing the div() function with the swapped values.\n",
    "# We have to return the function (div()) that we are accepting in the outer function smart_div().\n",
    "    return innerfunct #  We return this function because this is the function that is actually doing the job for me.\n",
    "\n",
    "# Connecting the smart_div() to div():\n",
    "# div1 = smart_div(div) # we can assign a function to another function because everything in python is an object\n",
    "# The passed function is the original function we have and the function on the left hand side of the assignment is the new function.\n",
    "# We can also change the LHS function name just to be clear.\n",
    "# div1(2,4) # We are calling div() but indirectly - we are calling div1() which is using the smart_div() and by passing the\n",
    "# values it'll swap the values in the innerfunct() and then it'll actually call the div() at the end which will print the values.\n",
    "div = smart_div(div)\n",
    "div(2,4) # It looks like we are calling the old div() but just before calling it in the previous line we are changing the definition of old div()\n",
    "# Python is a functional Programming language as it takes a function as a parameter in another function\n",
    "\n",
    "# We defined the function inside other function which is actually replacing the code of div() behind the scene and before calling div()\n",
    "# we change the way div() works"
   ]
  },
  {
   "cell_type": "code",
   "execution_count": 10,
   "id": "823d04db",
   "metadata": {},
   "outputs": [],
   "source": [
    "# Modules:\n",
    "\n",
    "# Debugging is removing bugs then coding is adding bugs - intentionally or non intentionally as we are trying to solve a problem and around that we will be writing code trying to solve the problem\n",
    "# In a project - 1000s of lines of code\n",
    "# How do we manage this stuff because if we increase bugs and at some point we need to read our own code, we need to understand how to remove those bugs and your software should be maintainable.\n",
    "# There is a saying: When I wrote this code only God and I understood what it did - and now only God knows\n",
    "# We write a code and after sometime we only aren't able to understand it - when we have 1000 lines of code it is difficuclt to track and if you write everything in the same page/place it is difficult to manage it and if you change one point it may affect other parts of code as well or other code as well\n",
    "# For solving this problem we use the concept of modules.\n",
    "# Instead of writing one big software in 1 file - we will break it down into small small parts - breaking the whole project/software into logical parts - by thinking about the project - all the same features should belong to the same module\n",
    "# Eg, ABCD is software with the these 4 features A,B,C,D and AC and BD can be one module and further break it down as A C B D 4 modules - the advantage is that if for eg I wanna change something in A it'll not or it may not have any affect on other modules as they are separate modules - it may if we are doing some tight-coupling stuff there but normally it doesn't\n",
    "# Next advantage is to reuse those modules for eg when building a new project with some similar features eg GADP - so we can use the A and D modules here as we have already built them.\n",
    "# In a module we can have variables, functions, classes - so one module is one file."
   ]
  },
  {
   "cell_type": "code",
   "execution_count": 11,
   "id": "f70d6fa1",
   "metadata": {},
   "outputs": [],
   "source": [
    "# This is my main file and I wanna add 2 numbers:\n",
    "a = 9\n",
    "b = 7\n",
    "# Maybe you wanna perform all operations here itself + - * / or we can create functions. I can create all these functions here\n",
    "# in the same module or a separate module which can contain all these functions - seperate module create\n",
    "import calc"
   ]
  },
  {
   "cell_type": "code",
   "execution_count": 13,
   "id": "c500d542",
   "metadata": {},
   "outputs": [
    {
     "name": "stdout",
     "output_type": "stream",
     "text": [
      "16\n"
     ]
    }
   ],
   "source": [
    "print(calc.add(9,7))"
   ]
  },
  {
   "cell_type": "code",
   "execution_count": 14,
   "id": "c9c1cba9",
   "metadata": {},
   "outputs": [],
   "source": [
    "c = calc.add(9,7)"
   ]
  },
  {
   "cell_type": "code",
   "execution_count": 15,
   "id": "60113a8d",
   "metadata": {},
   "outputs": [
    {
     "name": "stdout",
     "output_type": "stream",
     "text": [
      "16\n"
     ]
    }
   ],
   "source": [
    "print(c)"
   ]
  },
  {
   "cell_type": "code",
   "execution_count": 16,
   "id": "e63b2742",
   "metadata": {},
   "outputs": [],
   "source": [
    "from calc import add"
   ]
  },
  {
   "cell_type": "code",
   "execution_count": 17,
   "id": "f985ef2a",
   "metadata": {},
   "outputs": [
    {
     "name": "stdout",
     "output_type": "stream",
     "text": [
      "16\n"
     ]
    }
   ],
   "source": [
    "print(calc.add(9,7))"
   ]
  },
  {
   "cell_type": "code",
   "execution_count": 18,
   "id": "0b742706",
   "metadata": {},
   "outputs": [
    {
     "name": "stdout",
     "output_type": "stream",
     "text": [
      "16\n"
     ]
    }
   ],
   "source": [
    "print(add(9,7))"
   ]
  },
  {
   "cell_type": "code",
   "execution_count": 19,
   "id": "902f874a",
   "metadata": {},
   "outputs": [],
   "source": [
    "from calc import add,subtract"
   ]
  },
  {
   "cell_type": "code",
   "execution_count": 20,
   "id": "b0b259b0",
   "metadata": {},
   "outputs": [
    {
     "name": "stdout",
     "output_type": "stream",
     "text": [
      "16\n",
      "2\n"
     ]
    }
   ],
   "source": [
    "print(add(9,7))\n",
    "print(subtract(9,7))"
   ]
  },
  {
   "cell_type": "code",
   "execution_count": 23,
   "id": "645773f0",
   "metadata": {},
   "outputs": [
    {
     "name": "stdout",
     "output_type": "stream",
     "text": [
      "1.2857142857142858\n"
     ]
    }
   ],
   "source": [
    "from calc import *\n",
    "print(divide(9,7))"
   ]
  },
  {
   "cell_type": "code",
   "execution_count": 24,
   "id": "c56acc52",
   "metadata": {},
   "outputs": [],
   "source": [
    "# Doesn't make sense to have separate modules for separate functions. All you logical functions should work together in one module.\n",
    "# Functions, classes, variables, etc."
   ]
  },
  {
   "cell_type": "code",
   "execution_count": 25,
   "id": "5c69d1ea",
   "metadata": {},
   "outputs": [],
   "source": [
    "# Special Variable: __name__"
   ]
  },
  {
   "cell_type": "code",
   "execution_count": 26,
   "id": "61b8d324",
   "metadata": {},
   "outputs": [
    {
     "name": "stdout",
     "output_type": "stream",
     "text": [
      "__main__\n"
     ]
    }
   ],
   "source": [
    "print(__name__)"
   ]
  },
  {
   "cell_type": "code",
   "execution_count": 27,
   "id": "05b6dd78",
   "metadata": {},
   "outputs": [],
   "source": [
    "# In other languages: main is the starting point of our execution. Same goes for Python. The moment you run your code, if this\n",
    "# is your first code, in our project, we might have multiple modules, maybe 5 or 10, but there will be some module which I will\n",
    "# run first, for eg, this one Day 5. So the first module name is always main because that is the start of execution of our code.\n",
    "# So, the value for variable name here is main. In calc if I print this variable name and run the module from there itself, the\n",
    "# value of name will be main. But if I import calc here in Day 5 - everything what is there in calc will come to Day 5 file."
   ]
  },
  {
   "cell_type": "code",
   "execution_count": 28,
   "id": "cd67445e",
   "metadata": {},
   "outputs": [],
   "source": [
    "import calc # everything what is there in calc will come to Day 5 file including the print statement in the calc file in which\n",
    "# we have used the __name__ there"
   ]
  },
  {
   "cell_type": "code",
   "execution_count": 30,
   "id": "d96235b5",
   "metadata": {},
   "outputs": [
    {
     "name": "stdout",
     "output_type": "stream",
     "text": [
      "Day 5 says: __main__\n"
     ]
    }
   ],
   "source": [
    "print(\"Day 5 says: \" + __name__) # Also if we use it in an IDE, then Hello calc will also be printed before the output below - that is the name of the module is printed which has been imported when we use the name variable."
   ]
  },
  {
   "cell_type": "code",
   "execution_count": 31,
   "id": "9ac7557b",
   "metadata": {},
   "outputs": [],
   "source": [
    "# So the value of the name variable changes as per the place we're using it"
   ]
  },
  {
   "cell_type": "code",
   "execution_count": 32,
   "id": "4b66df29",
   "metadata": {},
   "outputs": [
    {
     "name": "stdout",
     "output_type": "stream",
     "text": [
      "Hello\n",
      "Welcome User\n",
      "Hello\n",
      "Welcome User\n"
     ]
    }
   ],
   "source": [
    "# Why is it helpful: When we work on a project - everything should be in a function - for eg in a new file I write the following code:\n",
    "# My main job is to Say hello to and welcome the user:\n",
    "print(\"Hello\")\n",
    "print(\"Welcome User\")\n",
    "# Now I wanna do this only when Day 5 is the first file.\n",
    "# Now If I import this file which is Day 5 in another module/file and when I run the code in the other module it'll also print the above 2 greetings which I don't want as this is not the first file which is run which is Day 5.\n",
    "# So, in order to avoid this  we write the above 2 greetings in the Day 5 file in a function:\n",
    "def main(): # Any function name\n",
    "    print(\"Hello\")\n",
    "    print(\"Welcome User\")\n",
    "main() # We call this function when we wanna use it but we wanna call this function only when it is my first code that is run from Day 5 file itself and not from the other module using import.\n",
    "# So, in this case, we can do the following:\n",
    "if __name__ == '__name__':\n",
    "    main()\n",
    "    # Now Day 5 file will print the 2 greetings only when Day 5 code is the first code to be executed and it'll not be printed when it is imported in the other module as name variable in Day 5 will have the value = Day 5 when we import Day 5 in the other module and in the other module as it is from which we have started the execution, the name variable here would be = main in the other module."
   ]
  },
  {
   "cell_type": "code",
   "execution_count": 34,
   "id": "4b5cdd7a",
   "metadata": {},
   "outputs": [],
   "source": [
    "# Another Example: with this file and calc2"
   ]
  },
  {
   "cell_type": "code",
   "execution_count": 35,
   "id": "d16d4418",
   "metadata": {},
   "outputs": [
    {
     "name": "stdout",
     "output_type": "stream",
     "text": [
      "From fun1\n",
      "From fun2\n"
     ]
    }
   ],
   "source": [
    "# Let's say I'm working on a project and when I'll be working on a project I'll be creating modules - Day 5 and calc2. As of rn\n",
    "# I'm working on Day 5: Now inside Day 5 I wanna accomplish some task and we do that by defining some functions:\n",
    "\n",
    "def fun1():\n",
    "    print(\"From fun1\") # Any code here\n",
    "def fun2():\n",
    "    print(\"From fun2\") # Any code here\n",
    "\n",
    "# Now If I try to run this we will get no output. We need to call the functions.\n",
    "\n",
    "fun1()\n",
    "fun2()"
   ]
  },
  {
   "cell_type": "code",
   "execution_count": 36,
   "id": "48013319",
   "metadata": {},
   "outputs": [
    {
     "name": "stdout",
     "output_type": "stream",
     "text": [
      "From fun1\n",
      "From fun2\n"
     ]
    }
   ],
   "source": [
    "# Normally when you define functions normally when you work on a project, if this is your standalone app/code/file or only file\n",
    "# you are going to write in your project, normally what we do is we define everything in a function because statements should\n",
    "# be a part of the function - so the 2 function callings that should be done inside another function - this is the standard\n",
    "# procedure that we follow like in other languages - main is the starting point in the program execution (here we can name it another\n",
    "# name - the function name) and also main will also not call itself and therefore we call main at the end:\n",
    "\n",
    "def fun1():\n",
    "    print(\"From fun1\") # Any code here\n",
    "def fun2():\n",
    "    print(\"From fun2\") # Any code here\n",
    "\n",
    "def main():    \n",
    "    fun1()\n",
    "    fun2()\n",
    "\n",
    "main()"
   ]
  },
  {
   "cell_type": "code",
   "execution_count": 45,
   "id": "0ac63b05",
   "metadata": {},
   "outputs": [
    {
     "name": "stdout",
     "output_type": "stream",
     "text": [
      "Result 1 is\n",
      "From fun1\n",
      "From fun2\n"
     ]
    }
   ],
   "source": [
    "# So, from calling main and main calls the other 2 functions. So, generally we make a software like this from a main function\n",
    "# we call all other functions.\n",
    "\n",
    "# Now in the other file/module calc2 let's make a calculator and in the calc2 we define some functions.\n",
    "\n",
    "# Now, we got 2 different modules\n",
    "\n",
    "# Now, I wanna use calc2 in Day 5 - say fun1() wants to use calc2, so, in order to do so, we need to:\n",
    "\n",
    "#import calc2\n",
    "#or\n",
    "\n",
    "from calc2 import add \n",
    "\n",
    "def fun1():\n",
    "    add()\n",
    "    print(\"From fun1\") # Any code here\n",
    "def fun2():\n",
    "    print(\"From fun2\") # Any code here\n",
    "\n",
    "def main():    \n",
    "    fun1()\n",
    "    fun2()\n",
    "\n",
    "main()\n",
    "\n",
    "# I'm expecting the output to be:\n",
    "# Result 1 is\n",
    "# From fun1\n",
    "# From fun2"
   ]
  },
  {
   "cell_type": "code",
   "execution_count": 65,
   "id": "af3529e3",
   "metadata": {},
   "outputs": [],
   "source": [
    "# We don't want the first two lines above of the output. Which is Result 1 is and Result 2 is (The output including these was coming here above but idk why I ran it again so it's not coming that way again)\n",
    "# The reason I'm using Day 5 is that I wanna print Result 1 is from add()\n",
    "# From fun1 from fun1() and fun2 from fun2() and nothing else. We're not calling sub() and we don't want Result 2 is.\n",
    "\n",
    "# We got the above output because the moment we import a library/module, it'll execute all the statements in it. So, in calc2 \n",
    "# we have main() which is calling all the other functions and hence the print outputs. - we don't want this. So, We say/do - I \n",
    "# want to call main() only when I'm executing this particular file as a standalone program. - I don't wanna call main() when I'm\n",
    "# running it(calc) from another file(Day 5). So, in Day 5 I'm only concerned about add() and I'm not concerned about main() of \n",
    "# calc2 or other functions in calc2. - I'm using calc2 as a module. \n",
    "# So, call main() when I'm running calc2 as a code.\n",
    "# So, how do you know this is the code that I'm running- so, whenever you run/execute a code, there is a variable called as\n",
    "# name which will hold main as it's value if that is the code I'm running at the start. Otherwise, this name variable will have\n",
    "# the module name. And using the if condition below we are not getting Result 2 is as main() is not called as\n",
    "# __name__ is not equal to __main__ which causes the calc2 file to be used as a module for Day 5 file"
   ]
  },
  {
   "cell_type": "code",
   "execution_count": 66,
   "id": "8f9b66c3",
   "metadata": {},
   "outputs": [
    {
     "name": "stdout",
     "output_type": "stream",
     "text": [
      "Result 1 is\n",
      "From fun1\n",
      "From fun2\n"
     ]
    }
   ],
   "source": [
    "from calc2 import add\n",
    "\n",
    "def fun1():\n",
    "    add()\n",
    "    print(\"From fun1\") # Any code here\n",
    "def fun2():\n",
    "    print(\"From fun2\") # Any code here\n",
    "\n",
    "def main():    \n",
    "    fun1()\n",
    "    fun2()\n",
    "\n",
    "main()"
   ]
  },
  {
   "cell_type": "code",
   "execution_count": 67,
   "id": "51d93c2d",
   "metadata": {},
   "outputs": [],
   "source": [
    "# The output in the above code is:\n",
    "# Result 1 is __calc2__\n",
    "# From fun1\n",
    "# From fun2\n",
    "\n",
    "# Due to not able to unimport the function, opening this file next time maybe will unimport it and reimporting it from the\n",
    "# first line will cause the above output which is expected.\n",
    "\n",
    "# import imp\n",
    "# imp.reload(calc2) # Reloads the module imported in an earlier run"
   ]
  }
 ],
 "metadata": {
  "kernelspec": {
   "display_name": "Python 3 (ipykernel)",
   "language": "python",
   "name": "python3"
  },
  "language_info": {
   "codemirror_mode": {
    "name": "ipython",
    "version": 3
   },
   "file_extension": ".py",
   "mimetype": "text/x-python",
   "name": "python",
   "nbconvert_exporter": "python",
   "pygments_lexer": "ipython3",
   "version": "3.9.7"
  }
 },
 "nbformat": 4,
 "nbformat_minor": 5
}
