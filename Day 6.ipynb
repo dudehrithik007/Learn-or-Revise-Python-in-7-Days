{
 "cells": [
  {
   "cell_type": "code",
   "execution_count": 1,
   "id": "4402791c",
   "metadata": {},
   "outputs": [],
   "source": [
    "# Python supports all different programming paradigms: Success of Python.\n",
    "# Functional Programming, OOP, Procedural Programming\n",
    "# Procedural Programming: We define functions, we call a function from a function. If you wanna create a software, you will\n",
    "# break down your software into small small parts and those modules small modules will be functions.\n",
    "# Function Programming: It means if you can achieve a certain task implementing functions as our mathematical functions where\n",
    "# you will not manipulate a data which is instead of changing data you will still accomplish a task - one of the ways we can\n",
    "# pass a function to a function. Procedural and Functional we have done with eg lambdas. Now, we'll study OOPs: \n",
    "# When we are working on big SWs/Enterprise Projects you need to think everything in the format of objects. We have functions\n",
    "# but since the start of the tutorials, we were talking about objects such as maybe in some program Sir said: this is an object\n",
    "# integer is an object but then we were skipping that part - what is object and what is it important. So, ultimately if we talk\n",
    "# about programming world - what we try to do is try to solve a real world issue with the help of virtual world solution eg\n",
    "# programming softwares. Now, in real world we all use objects right for eg - If I wanna record a video I need a camera, If I \n",
    "# wanna call someone I need a phone, if you wanna type a code you need a keyboard and a laptop. So, for everything you need an\n",
    "# need an object. So, in the real world everything is an object. Eg persons, if I have a company, if I want some work to be done\n",
    "# of course I need employees and for me every employee is an object. So, an employee object is using a laptop object, so some\n",
    "# employer object needs an AC object.\n",
    "# Now, Every object will have 2 things. Every object will have certain attributes and every object will have certain behaviour.\n",
    "# So, attribute = data or properties. Humans are objects. So, my height is an attribute, my age is one attribute, my name is one\n",
    "# attribute, the company I work for is an attribute. And then comes my behaviour, I'm walking, I'm talking, I'm dancing - all\n",
    "# these are behaviours - so our actions define our behaviour and then we have attributes which we know. In other words, as an\n",
    "# object I know something and as an object I do something. So, I do something based on something which I know - so this is \n",
    "# object. Object will have something where you can store data and an object will have some behaviour and this data which we\n",
    "# normally use those are variables, right - so if we want to store something in an object - we need to define variables. If we\n",
    "# need to define the behaviour we need to use methods = functions - we have done evrything already here we just need to think\n",
    "# in terms of objects. OOPs is not just about different syntax - It's also about the way you think - so now if you wanna\n",
    "# achieve anything in programming - you need to think about objects - so the moment you say you have a complex problem - think\n",
    "# about the object - think about multiple objects and how can you connect them. In OOPs we have concepts such as Objects,\n",
    "# Classes, Encapsulation, Abstraction, Polymorphism.\n",
    "\n",
    "# We always use objects and classes together. Objects are imp because whatever I wanna do can be done with the help of objects\n",
    "# but why classes are important - whenever you see an object in the real world, eg, a camera, a fan or a clock, all these things\n",
    "# are manufactured, right - so I mean in some factory they have been manufactured. Talk about a phone - eg Motorola J3 - now\n",
    "# it is not the only phone available here and a lot of people have this phone so that means we don't have one object of Moto J3\n",
    "# we have 1000s of millions of objects for eg we have 5 millions of this phone which is Moto J3 and ofc now someone must have\n",
    "# designed it and all these phones have been manufactured somewhere maybe you can say all these phones are made in China so we\n",
    "# have a factory in China which is producing all these phones - but Motorola says it is their phone and we don't say it is China\n",
    "# phone - why? Because Manufacturing is not important, you can manufacture stuff anywhere - what is important is where it has\n",
    "# been designed so this is designed by Motorola - but even if we talk about this phone - this has been designed once and then\n",
    "# they have manufactured multiple times and that design in Programming/OOPs we say Class - so in a class we will write a\n",
    "# design of the object - so imagine there is a factory in your machine which will create this object so you have to provide\n",
    "# a design so you will get the object. So, the class is the design and the objects are the real stuff or instance of a class \n",
    "# or entities. So class is a design or you can call them as blue print. So, if you have a class you can manufactures 1000s\n",
    "# of billions of Moto J3s.\n",
    "\n",
    "# So, before creating an object you need to create a class because class is a design for the object and if you don't have a \n",
    "# design how can you build something. Eg, before building a tower we need to create a blueprint of it. So, if I want an object\n",
    "# I need a class."
   ]
  },
  {
   "cell_type": "code",
   "execution_count": 2,
   "id": "1c287f1d",
   "metadata": {},
   "outputs": [
    {
     "ename": "NameError",
     "evalue": "name 'com1' is not defined",
     "output_type": "error",
     "traceback": [
      "\u001b[1;31m---------------------------------------------------------------------------\u001b[0m",
      "\u001b[1;31mNameError\u001b[0m                                 Traceback (most recent call last)",
      "\u001b[1;32m~\\AppData\\Local\\Temp/ipykernel_9648/1579043383.py\u001b[0m in \u001b[0;36m<module>\u001b[1;34m\u001b[0m\n\u001b[0;32m      1\u001b[0m \u001b[1;31m# Let's say I wanna work with Computers. I'm a person and I wanna work with a computer so I want an object of a computer.\u001b[0m\u001b[1;33m\u001b[0m\u001b[1;33m\u001b[0m\u001b[0m\n\u001b[0;32m      2\u001b[0m \u001b[1;31m# So, I will say/type:\u001b[0m\u001b[1;33m\u001b[0m\u001b[1;33m\u001b[0m\u001b[0m\n\u001b[1;32m----> 3\u001b[1;33m \u001b[0mcom1\u001b[0m \u001b[1;31m# But the thing is till this point we have worked with integers, floats, string - now all those are inbuilt types - we dont\u001b[0m\u001b[1;33m\u001b[0m\u001b[1;33m\u001b[0m\u001b[0m\n\u001b[0m\u001b[0;32m      4\u001b[0m \u001b[1;31m# have any type as computer - so ofc we need to create our own type - so we need to create our own class for it. So, if you\u001b[0m\u001b[1;33m\u001b[0m\u001b[1;33m\u001b[0m\u001b[0m\n\u001b[0;32m      5\u001b[0m \u001b[1;31m# wanna use a computer you needa define a class for it:\u001b[0m\u001b[1;33m\u001b[0m\u001b[1;33m\u001b[0m\u001b[0m\n",
      "\u001b[1;31mNameError\u001b[0m: name 'com1' is not defined"
     ]
    }
   ],
   "source": [
    "# Let's say I wanna work with Computers. I'm a person and I wanna work with a computer so I want an object of a computer.\n",
    "# So, I will say/type:\n",
    "com1 # But the thing is till this point we have worked with integers, floats, string - now all those are inbuilt types - we dont\n",
    "# have any type as computer - so ofc we need to create our own type - so we need to create our own class for it. So, if you\n",
    "# wanna use a computer you needa define a class for it:"
   ]
  },
  {
   "cell_type": "code",
   "execution_count": 3,
   "id": "e50ce16e",
   "metadata": {},
   "outputs": [],
   "source": [
    "class Computer:\n",
    "    # Attributes = Variables and Behaviour = Methods(Functions) here\n",
    "    # Defining a method such as: as every machine has a configuration.\n",
    "    def config():\n",
    "        print(\"Intel Core i3 7th Gen, 16GB RAM, 1TB HDD, 250GB SSD, Intel HD Graphics 620\")\n",
    "\n",
    "# com1 # For eg If I say this is an object of computer - we cannot simply use this no one will understand what com1 is. Eg, if I \n",
    "# say this is a variable: a\n",
    "# a # What is the type of this variable - since in Python we don't have to statically mention the type of it - so what we can do \n",
    "# is when I say a = 5 now the type of a become integer. If I say a = 5.5 its type becomes float. a = '8' is a string. Now\n",
    "# com1 here doesn't have a type but we have to mention it is an object of type computer:\n",
    "com1 = Computer() # In other languages, this is a constructor there and this will give us an object of Computer"
   ]
  },
  {
   "cell_type": "code",
   "execution_count": 4,
   "id": "dce1cd2e",
   "metadata": {},
   "outputs": [
    {
     "name": "stdout",
     "output_type": "stream",
     "text": [
      "<class '__main__.Computer'>\n"
     ]
    }
   ],
   "source": [
    "print(type(com1))"
   ]
  },
  {
   "cell_type": "code",
   "execution_count": 5,
   "id": "a283bffb",
   "metadata": {},
   "outputs": [
    {
     "name": "stdout",
     "output_type": "stream",
     "text": [
      "<class 'str'>\n"
     ]
    }
   ],
   "source": [
    "# Output of above: Class Computer and it also gives you the module name which is __main__ as we are running this code from here.\n",
    "a = '8'\n",
    "print(type(a))"
   ]
  },
  {
   "cell_type": "code",
   "execution_count": 7,
   "id": "b0e1103c",
   "metadata": {},
   "outputs": [],
   "source": [
    "# <class '__main__.str'> this will be the output in Pycharm. a is an object of str."
   ]
  },
  {
   "cell_type": "code",
   "execution_count": 8,
   "id": "d76375a8",
   "metadata": {},
   "outputs": [],
   "source": [
    "# str is an inbuilt class and Computer is a user-defined class."
   ]
  },
  {
   "cell_type": "code",
   "execution_count": 10,
   "id": "829d7490",
   "metadata": {},
   "outputs": [],
   "source": [
    "# So, everything is an object in Python. In-built and User-Defined"
   ]
  },
  {
   "cell_type": "code",
   "execution_count": 14,
   "id": "75160ed2",
   "metadata": {},
   "outputs": [
    {
     "ename": "TypeError",
     "evalue": "config() missing 1 required positional argument: 'self'",
     "output_type": "error",
     "traceback": [
      "\u001b[1;31m---------------------------------------------------------------------------\u001b[0m",
      "\u001b[1;31mTypeError\u001b[0m                                 Traceback (most recent call last)",
      "\u001b[1;32m~\\AppData\\Local\\Temp/ipykernel_9648/3574950718.py\u001b[0m in \u001b[0;36m<module>\u001b[1;34m\u001b[0m\n\u001b[0;32m      3\u001b[0m         \u001b[0mprint\u001b[0m\u001b[1;33m(\u001b[0m\u001b[1;34m\"Intel Core i3 7th Gen, 16GB RAM, 1TB HDD, 250GB SSD, Intel HD Graphics 620\"\u001b[0m\u001b[1;33m)\u001b[0m\u001b[1;33m\u001b[0m\u001b[1;33m\u001b[0m\u001b[0m\n\u001b[0;32m      4\u001b[0m \u001b[0mcom1\u001b[0m \u001b[1;33m=\u001b[0m \u001b[0mComputer\u001b[0m\u001b[1;33m(\u001b[0m\u001b[1;33m)\u001b[0m\u001b[1;33m\u001b[0m\u001b[1;33m\u001b[0m\u001b[0m\n\u001b[1;32m----> 5\u001b[1;33m \u001b[0mComputer\u001b[0m\u001b[1;33m.\u001b[0m\u001b[0mconfig\u001b[0m\u001b[1;33m(\u001b[0m\u001b[1;33m)\u001b[0m \u001b[1;31m# In order to access a function inside a class - we need to write Classname.Functionname\u001b[0m\u001b[1;33m\u001b[0m\u001b[1;33m\u001b[0m\u001b[0m\n\u001b[0m\u001b[0;32m      6\u001b[0m \u001b[1;31m# This gives error in Pycharm and here also it should because one class can have multiple objects - this config function will\u001b[0m\u001b[1;33m\u001b[0m\u001b[1;33m\u001b[0m\u001b[0m\n\u001b[0;32m      7\u001b[0m \u001b[1;31m# change its behaviour based on the object because different object have different behaviour depend upon what they know they\u001b[0m\u001b[1;33m\u001b[0m\u001b[1;33m\u001b[0m\u001b[0m\n",
      "\u001b[1;31mTypeError\u001b[0m: config() missing 1 required positional argument: 'self'"
     ]
    }
   ],
   "source": [
    "class Computer:\n",
    "    def config(self): # Self is the object which you are passing\n",
    "        print(\"Intel Core i3 7th Gen, 16GB RAM, 1TB HDD, 250GB SSD, Intel HD Graphics 620\")\n",
    "com1 = Computer()\n",
    "Computer.config() # In order to access a function inside a class - we need to write Classname.Functionname\n",
    "# This gives error because one class can have multiple objects - this config function will\n",
    "# change its behaviour based on the object because different object have different behaviour depend upon what they know they\n",
    "# have a different behaviour. For eg, in this case I'm not depending upon any data but maybe there's a chance that this config()\n",
    "# will depend upon some data and every object will have its own data - and every object is different right. So, If I'm calling\n",
    "# config() then for which object I'm doing that. For eg, If I say hey walk, but to whom I am supposed to say walk - so I have to\n",
    "# mention hey Ravi walk hey Mukesh walk hey Kiran walk - I have to mention the names as well. So, when I say Computer.config()\n",
    "# I have to also mention for which object I'm talking about - com1."
   ]
  },
  {
   "cell_type": "code",
   "execution_count": 15,
   "id": "7c770747",
   "metadata": {},
   "outputs": [
    {
     "name": "stdout",
     "output_type": "stream",
     "text": [
      "Intel Core i3 7th Gen, 16GB RAM, 1TB HDD, 250GB SSD, Intel HD Graphics 620\n"
     ]
    }
   ],
   "source": [
    "Computer.config(com1)"
   ]
  },
  {
   "cell_type": "code",
   "execution_count": 16,
   "id": "e0631891",
   "metadata": {},
   "outputs": [],
   "source": [
    "com2 = Computer()"
   ]
  },
  {
   "cell_type": "code",
   "execution_count": 17,
   "id": "951c2789",
   "metadata": {},
   "outputs": [
    {
     "name": "stdout",
     "output_type": "stream",
     "text": [
      "Intel Core i3 7th Gen, 16GB RAM, 1TB HDD, 250GB SSD, Intel HD Graphics 620\n"
     ]
    }
   ],
   "source": [
    "Computer.config(com2)"
   ]
  },
  {
   "cell_type": "code",
   "execution_count": 19,
   "id": "1473c343",
   "metadata": {},
   "outputs": [
    {
     "name": "stdout",
     "output_type": "stream",
     "text": [
      "Intel Core i3 7th Gen, 16GB RAM, 1TB HDD, 250GB SSD, Intel HD Graphics 620\n",
      "Intel Core i3 7th Gen, 16GB RAM, 1TB HDD, 250GB SSD, Intel HD Graphics 620\n"
     ]
    }
   ],
   "source": [
    "# So, for 1st instance/object I'm saying Muskesh walk or I will say: Hey Human walk(Mukesh) 2nd object: Hey Human walk(Ravi). \n",
    "# So, in the same way: I'm saying hey Computer show me config (I'm talking about com1) and for 2nd object Hey Computer I want\n",
    "# your config for com2. Now, in this code for both objects we are getting the same data because rn we are not changing data\n",
    "# for different objects - we can do that - later.\n",
    "\n",
    "# Another way to call the config method for an object:\n",
    "# In the above way it is clean: config method belongs to Computer Class and then we have to pass the object which is com1.\n",
    "\n",
    "com1.config() # In this case we are using the object itself to call the function\n",
    "com2.config()\n",
    "# In this case we are not passing anything so why it is working? It is working because it is another behaviour of it when\n",
    "# we write this com1.config() you are calling config - we are specifying of which class it is - com1 belongs to Computer - \n",
    "# now when we say com1.config() when we are calling it - behind the scenes this config() will take com1 as its parameter\n",
    "# and pass it to self."
   ]
  },
  {
   "cell_type": "code",
   "execution_count": 23,
   "id": "c57c1628",
   "metadata": {},
   "outputs": [
    {
     "ename": "TypeError",
     "evalue": "b() takes 0 positional arguments but 1 was given",
     "output_type": "error",
     "traceback": [
      "\u001b[1;31m---------------------------------------------------------------------------\u001b[0m",
      "\u001b[1;31mTypeError\u001b[0m                                 Traceback (most recent call last)",
      "\u001b[1;32m~\\AppData\\Local\\Temp/ipykernel_9648/1729020477.py\u001b[0m in \u001b[0;36m<module>\u001b[1;34m\u001b[0m\n\u001b[0;32m      3\u001b[0m         \u001b[0mprint\u001b[0m\u001b[1;33m(\u001b[0m\u001b[1;34m\"Intel Core i3 7th Gen, 16GB RAM, 1TB HDD, 250GB SSD, Intel HD Graphics 620\"\u001b[0m\u001b[1;33m)\u001b[0m\u001b[1;33m\u001b[0m\u001b[1;33m\u001b[0m\u001b[0m\n\u001b[0;32m      4\u001b[0m \u001b[0mcobj\u001b[0m \u001b[1;33m=\u001b[0m \u001b[0ma\u001b[0m\u001b[1;33m(\u001b[0m\u001b[1;33m)\u001b[0m\u001b[1;33m\u001b[0m\u001b[1;33m\u001b[0m\u001b[0m\n\u001b[1;32m----> 5\u001b[1;33m \u001b[0mcobj\u001b[0m\u001b[1;33m.\u001b[0m\u001b[0mb\u001b[0m\u001b[1;33m(\u001b[0m\u001b[1;33m)\u001b[0m\u001b[1;33m\u001b[0m\u001b[1;33m\u001b[0m\u001b[0m\n\u001b[0m",
      "\u001b[1;31mTypeError\u001b[0m: b() takes 0 positional arguments but 1 was given"
     ]
    }
   ],
   "source": [
    "class a:\n",
    "    def b():\n",
    "        print(\"Intel Core i3 7th Gen, 16GB RAM, 1TB HDD, 250GB SSD, Intel HD Graphics 620\")\n",
    "cobj = a()\n",
    "cobj.b() # So, we need to specify self above"
   ]
  },
  {
   "cell_type": "code",
   "execution_count": 26,
   "id": "d3229b74",
   "metadata": {},
   "outputs": [
    {
     "name": "stdout",
     "output_type": "stream",
     "text": [
      "Intel Core i3 7th Gen, 16GB RAM, 1TB HDD, 250GB SSD, Intel HD Graphics 620\n"
     ]
    }
   ],
   "source": [
    "class a:\n",
    "    def b(aa): # any formal para name for self.\n",
    "        print(\"Intel Core i3 7th Gen, 16GB RAM, 1TB HDD, 250GB SSD, Intel HD Graphics 620\")\n",
    "cobj = a()\n",
    "cobj.b()"
   ]
  },
  {
   "cell_type": "code",
   "execution_count": 28,
   "id": "240bcdd1",
   "metadata": {},
   "outputs": [
    {
     "data": {
      "text/plain": [
       "3"
      ]
     },
     "execution_count": 28,
     "metadata": {},
     "output_type": "execute_result"
    }
   ],
   "source": [
    "# For inbuilt types eg:\n",
    "a = 5\n",
    "a.bit_length() # In the function defintion of bit_length(self) # self is there."
   ]
  },
  {
   "cell_type": "code",
   "execution_count": 33,
   "id": "96a54950",
   "metadata": {},
   "outputs": [
    {
     "name": "stdout",
     "output_type": "stream",
     "text": [
      "In Init\n",
      "In Init\n",
      "config is:  i3 16\n",
      "config is:  Ryzen 3 8\n"
     ]
    }
   ],
   "source": [
    "# Defining variables in a class. A special method available in a class __init__ to initialise variables. In Other languages,\n",
    "# we use constructors to initialise variables. Imagine this is our constructor. Advantage here is that if you wanna work with \n",
    "# config you are supposed to call config - compulsory otherwise it'll not be executed the idea for init is that it'll be called\n",
    "# automatically. Print statement example. For every object it'll be called once\n",
    "# . We have talked about special variable for eg: __name__. Specials have underscores.\n",
    "\n",
    "class Computer:\n",
    "    \n",
    "    def __init__(self,cpu,ram):\n",
    "        print(\"In Init\")\n",
    "        # Assigning the value to the passed object's variable:\n",
    "        self.cpu = cpu # we can have diff names also for eg: self.processor = cpu\n",
    "        self.memory = ram\n",
    "    \n",
    "    def config(self): # We are passing self in all functions so that we can use it to fetch the values associated with that object.\n",
    "        print(\"config is: \", self.cpu, self.memory)\n",
    "        \n",
    "com1 = Computer('i3',16) # At object creation which is this line init will be called automatically. Now I wanna pass some args I wanna pass CPU and RAM. In the constructor itself I can pass that\n",
    "com2 = Computer('Ryzen 3',8)\n",
    "# We have 2 Computers with 2 different configs\n",
    "# Like we passed com1 in the config function by default, in Computer() also com1 is passed by default.\n",
    "# So, it becomes: Computer(com1,'i3',16)\n",
    "\n",
    "com1.config()\n",
    "com2.config()"
   ]
  },
  {
   "cell_type": "code",
   "execution_count": 34,
   "id": "715bcacd",
   "metadata": {},
   "outputs": [],
   "source": [
    "# So, our Methods and Data work together - we are binding our data with every method - so one object will have its own methods\n",
    "# and its own variables/values - so they are working together"
   ]
  },
  {
   "cell_type": "code",
   "execution_count": 35,
   "id": "30e54147",
   "metadata": {},
   "outputs": [],
   "source": [
    "# Next Video:"
   ]
  },
  {
   "cell_type": "code",
   "execution_count": 39,
   "id": "94a564b4",
   "metadata": {},
   "outputs": [
    {
     "name": "stdout",
     "output_type": "stream",
     "text": [
      "1680909555360\n"
     ]
    }
   ],
   "source": [
    "class Computer:\n",
    "    # Cannot make an object of an empty class\n",
    "    pass\n",
    "c1 = Computer() # we say c1 is the object but c1 is referring to the object.\n",
    "print(id(c1))\n",
    "# So, what happens is that in your system there is a special memory called the heap memory. Now, inside this heap memory you'll\n",
    "# get all the objects. Here this object will take some space in your heap memory. Address of that memory:"
   ]
  },
  {
   "cell_type": "code",
   "execution_count": 37,
   "id": "c63f4ab2",
   "metadata": {},
   "outputs": [
    {
     "name": "stdout",
     "output_type": "stream",
     "text": [
      "1680909555600\n"
     ]
    }
   ],
   "source": [
    "# Now, I create another object\n",
    "c2 = Computer()\n",
    "print(id(c2))"
   ]
  },
  {
   "cell_type": "code",
   "execution_count": 40,
   "id": "5ef38ffc",
   "metadata": {},
   "outputs": [],
   "source": [
    "# Everytime we run the above statements c1 = Computer() and c2 = Computer(), 2 new objects are created which will take different\n",
    "# memory for each of the objects. Everytime I run these 2 lines 2 new objects will be created in memory at new spaces not the\n",
    "# old one. (Do and see)\n",
    "# Point: Everytime you create an object it is allocated to new space. \n",
    "# Now, how much space will it take? Size of an object is dependent upon the variables/attributes = size of each variable and\n",
    "# the number of variables. Also for eg if this class has 5 variables of same or different types it depends upon how much data\n",
    "# you pass, it'll change the size of it.\n",
    "# But, who is responsible to calculate and assign that memory = constructor. Computer() is our constructor. Whenever we write a\n",
    "# constructor it'll call an init method for me - we don't need to call it explicitly - it'll be called internally.\n",
    "\n",
    "# Defining variables:"
   ]
  },
  {
   "cell_type": "code",
   "execution_count": 4,
   "id": "4a72609d",
   "metadata": {},
   "outputs": [
    {
     "name": "stdout",
     "output_type": "stream",
     "text": [
      "Hrithik\n",
      "Hrithik\n"
     ]
    }
   ],
   "source": [
    "class Computer:\n",
    "    \n",
    "    def __init__(self):\n",
    "        self.name = \"Hrithik\"\n",
    "        self.age = 22\n",
    "        # We have created 2 objects below and both the objects will have the same value because by default both are getting these values.\n",
    "        # If I wanna assign my own values. 2 Ways. Next Cell:\n",
    "\n",
    "c1 = Computer()\n",
    "c2 = Computer()\n",
    "\n",
    "print(c1.name)\n",
    "print(c2.name)"
   ]
  },
  {
   "cell_type": "code",
   "execution_count": 5,
   "id": "7f4c5068",
   "metadata": {},
   "outputs": [
    {
     "name": "stdout",
     "output_type": "stream",
     "text": [
      "Rashi\n",
      "Hrithik\n"
     ]
    }
   ],
   "source": [
    "class Computer:\n",
    "    \n",
    "    def __init__(self):\n",
    "        self.name = \"Hrithik\"\n",
    "        self.age = 22\n",
    "\n",
    "c1 = Computer()\n",
    "c2 = Computer()\n",
    "\n",
    "c1.name = \"Rashi\" \n",
    "\n",
    "print(c1.name)\n",
    "print(c2.name)"
   ]
  },
  {
   "cell_type": "code",
   "execution_count": 8,
   "id": "00b0c56e",
   "metadata": {},
   "outputs": [],
   "source": [
    "# So in the above cell, c1 and c2 ofc are different objects and we used one more assignment for c1 so both objects will ofc have diff values of names.\n",
    "# Each object is a separate entity - each object have their own set of variables.\n",
    "\n",
    "# Now why do we need the self parameter in the init method: next cell:"
   ]
  },
  {
   "cell_type": "code",
   "execution_count": 9,
   "id": "d282399c",
   "metadata": {},
   "outputs": [
    {
     "name": "stdout",
     "output_type": "stream",
     "text": [
      "Rashi\n",
      "Hrithik\n"
     ]
    }
   ],
   "source": [
    "class Computer:\n",
    "    \n",
    "    def __init__(self):\n",
    "        self.name = \"Hrithik\"\n",
    "        self.age = 22\n",
    "    \n",
    "    def update(self):\n",
    "        self.age = 30\n",
    "\n",
    "c1 = Computer()\n",
    "c2 = Computer()\n",
    "\n",
    "c1.name = \"Rashi\" \n",
    "c1.update() # Because c1 has called the method so self will now be = c1. So, self is the current object.\n",
    "\n",
    "print(c1.name)\n",
    "print(c2.name)"
   ]
  },
  {
   "cell_type": "code",
   "execution_count": 18,
   "id": "600bf321",
   "metadata": {},
   "outputs": [
    {
     "name": "stdout",
     "output_type": "stream",
     "text": [
      "Same Age\n",
      "Rashi\n",
      "Hrithik\n"
     ]
    }
   ],
   "source": [
    "# Comparing 2 objects:\n",
    "\n",
    "class Computer:\n",
    "    \n",
    "    def __init__(self):\n",
    "        self.name = \"Hrithik\"\n",
    "        self.age = 22\n",
    "    \n",
    "    def update(self):\n",
    "        self.age = 30\n",
    "        \n",
    "    def compare(self,other):\n",
    "        if self.age == other.age:\n",
    "            return True\n",
    "        else:\n",
    "            return False\n",
    "\n",
    "c1 = Computer()\n",
    "c2 = Computer()\n",
    "\n",
    "# c2.age = 10\n",
    "\n",
    "c1.name = \"Rashi\" \n",
    "\n",
    "if c1.compare(c2) == True: # or omit == True # Comparing 2 objects on the basis of age. Python doesn't have an inbuilt method to compare objects so we create one in the class.\n",
    "    print(\"Same Age\")\n",
    "else:\n",
    "    print(\"Diff Age\")\n",
    "# c1 becomes self and c2 becomes other. Can do Vice versa also. Self: Who is calling, Other: Whom to compare the calling object with.\n",
    "\n",
    "print(c1.name)\n",
    "print(c2.name)"
   ]
  },
  {
   "cell_type": "code",
   "execution_count": 24,
   "id": "adac52f2",
   "metadata": {},
   "outputs": [
    {
     "name": "stdout",
     "output_type": "stream",
     "text": [
      "BMW 8 4\n",
      "BMW 10 4\n",
      "4\n",
      "BMW 8 5\n",
      "BMW 10 5\n",
      "5\n"
     ]
    }
   ],
   "source": [
    "# Creating variable inside an object = Every object should know something.\n",
    "\n",
    "# Next Video: \n",
    "# Types of Variables:\n",
    "# Instance Variable and CLass(Static) Variable\n",
    "\n",
    "class Car:\n",
    "    \n",
    "    wheels = 4 # Class Variable\n",
    "    \n",
    "    def __init__(self):\n",
    "        self.mil = 10\n",
    "        self.com = \"BMW\"\n",
    "        # These 2 variables are called instance variables because as the object changes the values of these variables will also\n",
    "        # change. By default the values are given but we can change it:\n",
    "        # Both the objects are different and they will have their own variables and hence their own values. These variables\n",
    "        # are known as instance variables.\n",
    "        \n",
    "c1 = Car()\n",
    "c2 = Car()\n",
    "\n",
    "c1.mil = 8\n",
    "\n",
    "print(c1.com, c1.mil,c1.wheels) \n",
    "print(c2.com, c2.mil,c2.wheels)\n",
    "# We can call the class variable using any of the objects. Instead of using the object name we can also use the class name as\n",
    "# the variables mil and com are specific to the object but wheels is common to all the objects. Every object share it.\n",
    "print(Car.wheels)\n",
    "\n",
    "# In our memory we have different namespace. Namespace: The place/area where we create and store an object/variable. One is\n",
    "# class namespace where we will create and store all the class variables and object/instance namespace where we'll create and \n",
    "# store all the instance/object variables. mil and com are instance variables and they belong to instance namespace and wheels\n",
    "# is a class variables and it belongs to class namespace. Now, If I wanna work with wheels and I wanna modify it I have to use a\n",
    "# classname.\n",
    "\n",
    "Car.wheels = 5\n",
    "# Now the moment I change the values for wheels it'll obviously affect all the objects as wheels is shared between all the\n",
    "# objects.\n",
    "\n",
    "print(c1.com, c1.mil,c1.wheels) \n",
    "print(c2.com, c2.mil,c2.wheels)\n",
    "print(Car.wheels)"
   ]
  },
  {
   "cell_type": "code",
   "execution_count": 25,
   "id": "e6331972",
   "metadata": {},
   "outputs": [],
   "source": [
    "# But, what if I wanna create a variable which is common for all the objects. Instance variables are different for different\n",
    "# objects. If you change one object, it'll not affect other objects. What if I wanna have a variable which will change and affect\n",
    "# all other objects. Eg, the number of wheels in a car is 4 by default is 4. But, what if in future we got a new concept of 5\n",
    "# tires. In this case we define a variable outside init method. If we define a variable inside the init method then it becomes\n",
    "# an instance variable and if you define a variable outside the init method and inside the class ofc, it becomes a class variable.\n",
    "\n",
    "# Next video: Types of Methods:\n",
    "# Object has 2 things. Variables to store data and methods for the behaviour/to perform certain operations. As humans also \n",
    "# we know something and we do something.\n",
    "# 3 types of Methods: Instance Methods, Class Methods, Static Methods. Static Variables and Class Variables are same but Static\n",
    "# Methods and Class Methods are different."
   ]
  },
  {
   "cell_type": "code",
   "execution_count": 30,
   "id": "999c089e",
   "metadata": {},
   "outputs": [
    {
     "name": "stdout",
     "output_type": "stream",
     "text": [
      "37.666666666666664\n",
      "44.333333333333336\n"
     ]
    }
   ],
   "source": [
    "class Student:\n",
    "    \n",
    "    school = 'Telusko'\n",
    "    \n",
    "    def __init__(self,m1,m2,m3):\n",
    "        self.m1 = m1\n",
    "        self.m2 = m2\n",
    "        self.m3 = m3\n",
    "        # Done like this because I wanna pass the values when I create the object. Can take the values from the user and pass also.\n",
    "        \n",
    "    def avg(self):\n",
    "        return (self.m1 + self.m2 + self.m3)/3\n",
    "    # This method avg is an instance method because we are passing self. When we are passing self, it means it belongs to a\n",
    "    # particular object\n",
    "    \n",
    "s1 = Student(34,47,32)\n",
    "s2 = Student(89,32,12)\n",
    "\n",
    "print(s1.avg())\n",
    "print(s2.avg())"
   ]
  },
  {
   "cell_type": "code",
   "execution_count": 32,
   "id": "3f30a88f",
   "metadata": {},
   "outputs": [
    {
     "name": "stdout",
     "output_type": "stream",
     "text": [
      "34\n"
     ]
    }
   ],
   "source": [
    "# 2 types of instance methods: Accessor methods and Mutator Methods. These methods are responsible to only work with instance\n",
    "# variables. If I just wanna fetch the value of the instance variables, I will use accessors. If I wanna modify the value, I will\n",
    "# use mutators. \n",
    "# Eg, I wanna fetch the value of m1:\n",
    "print(s1.m1) # Instead of using variables we should use methods:"
   ]
  },
  {
   "cell_type": "code",
   "execution_count": 33,
   "id": "0220aa2e",
   "metadata": {},
   "outputs": [
    {
     "name": "stdout",
     "output_type": "stream",
     "text": [
      "37.666666666666664\n",
      "44.333333333333336\n"
     ]
    },
    {
     "data": {
      "text/plain": [
       "26"
      ]
     },
     "execution_count": 33,
     "metadata": {},
     "output_type": "execute_result"
    }
   ],
   "source": [
    "class Student:\n",
    "    \n",
    "    school = 'Telusko'\n",
    "    \n",
    "    def __init__(self,m1,m2,m3):\n",
    "        self.m1 = m1\n",
    "        self.m2 = m2\n",
    "        self.m3 = m3\n",
    "        \n",
    "    def avg(self):\n",
    "        return (self.m1 + self.m2 + self.m3)/3\n",
    "    \n",
    "    def get_m1(self):\n",
    "        return self.m1\n",
    "    \n",
    "    def set_m1(self,value):\n",
    "        self.m1 = value # We can use constructor to pass a value and later to modify it we can use this method\n",
    "    \n",
    "s1 = Student(34,47,32)\n",
    "s2 = Student(89,32,12)\n",
    "\n",
    "print(s1.avg())\n",
    "print(s2.avg())\n",
    "\n",
    "s1.set_m1(26)\n",
    "s1.get_m1()"
   ]
  },
  {
   "cell_type": "code",
   "execution_count": 39,
   "id": "90cd0bee",
   "metadata": {},
   "outputs": [
    {
     "name": "stdout",
     "output_type": "stream",
     "text": [
      "Telusko\n",
      "Telusko\n"
     ]
    }
   ],
   "source": [
    "# Class Methods: \n",
    "# m1,m2,m3 are instance variables. Instance variables can be used with Instance Methods. Now, school is a class variable and If\n",
    "# I wanna work with a class variable, I need class Methods. Eg:\n",
    "\n",
    "class Student:\n",
    "    \n",
    "    school = 'Telusko'\n",
    "    \n",
    "    def __init__(self,m1,m2,m3):\n",
    "        self.m1 = m1\n",
    "        self.m2 = m2\n",
    "        self.m3 = m3\n",
    "        \n",
    "    def avg(self):\n",
    "        return (self.m1 + self.m2 + self.m3)/3\n",
    "    \n",
    "    def get_m1(self):\n",
    "        return self.m1\n",
    "    \n",
    "    def set_m1(self,value):\n",
    "        self.m1 = value\n",
    "        \n",
    "    # If we need to create a class method, we need to use a special symbol, we use something called as decorators.\n",
    "    @classmethod\n",
    "    def get_school(cls): # Prints name of the school. All the the students belong to the same school - If you change the school name\n",
    "                    # for one student, it'll affect all the students. So, if I wanna print the info which is the school name\n",
    "                    # and I don't want marks here. So, we don't want to work with self, we wanna work with the class. So, if\n",
    "                    # if you're working with an instance, then you'll use a self keyword, and if you're working with a class\n",
    "                    # variable you have to cls keyword. These 2 words are keywords.\n",
    "        # print() or return:\n",
    "        return cls.school\n",
    "    \n",
    "s1 = Student(34,47,32)\n",
    "s2 = Student(89,32,12)\n",
    "\n",
    "print(s1.get_school()) # It works with all the objects as well as the class\n",
    "print(Student.get_school())"
   ]
  },
  {
   "cell_type": "code",
   "execution_count": 37,
   "id": "7d27ef83",
   "metadata": {},
   "outputs": [],
   "source": [
    "# We get the following error when we don't use @\n",
    "# ---------------------------------------------------------------------------\n",
    "# TypeError                                 Traceback (most recent call last)\n",
    "# ~\\AppData\\Local\\Temp/ipykernel_19028/256100281.py in <module>\n",
    "#     33 \n",
    "#     34 print(s1.info()) # It works with all the objects as well as the class\n",
    "# ---> 35 print(Student.info())\n",
    "#\n",
    "# TypeError: info() missing 1 required positional argument: 'cls'"
   ]
  },
  {
   "cell_type": "code",
   "execution_count": 44,
   "id": "6f11f475",
   "metadata": {},
   "outputs": [
    {
     "name": "stdout",
     "output_type": "stream",
     "text": [
      "Telusko\n",
      "Telusko\n",
      "This is Student Class.\n"
     ]
    }
   ],
   "source": [
    "# Instance method works with instance variables and class methods work with class variables.\n",
    "# If you want to have a method which has nothing to do with instance variables, or class variables - we wanna do something extra\n",
    "# something different which is not concerned with the variables - using static method - not concerned about instance/class \n",
    "# variables.\n",
    "# Eg: I wanna print info about this class: (info() method)\n",
    "\n",
    "class Student:\n",
    "    \n",
    "    school = 'Telusko'\n",
    "    \n",
    "    def __init__(self,m1,m2,m3):\n",
    "        self.m1 = m1\n",
    "        self.m2 = m2\n",
    "        self.m3 = m3\n",
    "        \n",
    "    def avg(self):\n",
    "        return (self.m1 + self.m2 + self.m3)/3\n",
    "    \n",
    "    def get_m1(self):\n",
    "        return self.m1\n",
    "    \n",
    "    def set_m1(self,value):\n",
    "        self.m1 = value\n",
    "    \n",
    "    @staticmethod\n",
    "    def info(): # I wanna know the class name - this method is not related to any object and not related to the class so we don't\n",
    "                # pass any paramters to it. This method has nothing to do with class or instance variables. \n",
    "                # This method is useful for eg: we wanna perform any operation which has something to do with other objects or\n",
    "                # other class' objects. Eg: Finding the factorial of a number - as factorial of a number has nothing to do with\n",
    "                # the class or the instance variables - maybe you ae passing a value - you just wanna know the factorial of a \n",
    "                # number.\n",
    "                # We need to use a special decorator here for static methods\n",
    "        print(\"This is Student Class.\")\n",
    "        \n",
    "\n",
    "    @classmethod\n",
    "    def get_school(cls): \n",
    "        return cls.school\n",
    "    \n",
    "s1 = Student(34,47,32)\n",
    "s2 = Student(89,32,12)\n",
    "\n",
    "print(s1.get_school())\n",
    "print(Student.get_school())\n",
    "Student.info() # Calling a static method."
   ]
  },
  {
   "cell_type": "code",
   "execution_count": 2,
   "id": "534c2f7b",
   "metadata": {},
   "outputs": [
    {
     "name": "stdout",
     "output_type": "stream",
     "text": [
      "Hrithik 67\n"
     ]
    }
   ],
   "source": [
    "# Next video:\n",
    "# Inner Class: Class inside a Class: Why we need this:\n",
    "\n",
    "class Student:\n",
    "    \n",
    "    def __init__(self, name, rollno):\n",
    "        self.name = name\n",
    "        self.rollno = rollno\n",
    "        \n",
    "    def show(self):\n",
    "        print(self.name, self.rollno)\n",
    "        \n",
    "s1 = Student(\"Hrithik\", 67)\n",
    "s2 = Student(\"Navin\", 2)\n",
    "\n",
    "# One way to print: print(s1.name, s1.rollno) # This doesn't look good.\n",
    "s1.show() # This should print all the details about s1."
   ]
  },
  {
   "cell_type": "code",
   "execution_count": null,
   "id": "6783bf94",
   "metadata": {},
   "outputs": [],
   "source": [
    "# now let's say Student also has a laptop. We want Laptop here in the init method - I wanna know which laptop you are using - \n",
    "# I wanna know the config so I will also ask the user tell me which laptop you are using- now when we talk about a laptop there\n",
    "# are diff things imp not only the brand - also config is imp - which needs to be mentioned - so I pass these details when \n",
    "# creating the object: This is the one way:\n",
    "\n",
    "class Student:\n",
    "    \n",
    "    def __init__(self, name, rollno):\n",
    "        self.name = name\n",
    "        self.rollno = rollno\n",
    "        \n",
    "    def show(self):\n",
    "        print(self.name, self.rollno)\n",
    "        \n",
    "s1 = Student(\"Hrithik\", 67,'HP',\"i3\",8) # Like here and we accept these variables in the init method\n",
    "s2 = Student(\"Navin\", 2)\n",
    "\n",
    "s1.show()\n",
    "\n",
    "# We can do the above but the other option which we have is we can create a separate class which is laptop or instead of creating\n",
    "# a class outside the class Student we can also create Laptop inside Student - So a Laptop will be ONLY used by a Student - as in\n",
    "# this case., we are creating a Laptop class inside the Student class so that we can get that group of values."
   ]
  },
  {
   "cell_type": "code",
   "execution_count": 9,
   "id": "6881db92",
   "metadata": {},
   "outputs": [
    {
     "name": "stdout",
     "output_type": "stream",
     "text": [
      "Hrithik 67\n",
      "HP i3 16\n",
      "<class '__main__.Student.Laptop'>\n",
      "1684455400064\n",
      "1684455400304\n"
     ]
    }
   ],
   "source": [
    "class Student:\n",
    "    \n",
    "    def __init__(self, name, rollno): # Here we normally create the object of the inner class Laptop.\n",
    "        self.name = name\n",
    "        self.rollno = rollno\n",
    "        self.lap = self.Laptop() # In the constructor itself we can define our variable - in the outer class we define a variable\n",
    "        # lap and you can define the object. So, whenever you wanna use a Laptop - You have to say: Student Object. Lap - eg outside\n",
    "        # I wanna use it:\n",
    "        \n",
    "    def show(self):\n",
    "        print(self.name, self.rollno)\n",
    "        self.lap.show()\n",
    "        \n",
    "    class Laptop: # Inner Class of Student \n",
    "        \n",
    "        def __init__(self):\n",
    "            self.brand = \"HP\"\n",
    "            self.cpu = \"i3\"\n",
    "            self.ram = 16\n",
    "        \n",
    "        def show(self): # Show method for laptop. Inside Student show method and inside Laptop show method both are different. Show method of Student will print the data about the Student and the show method of Laptop will print the data about the Laptop\n",
    "            print(self.brand, self.cpu, self.ram)\n",
    "    \n",
    "s1 = Student(\"Hrithik\", 67)\n",
    "s2 = Student(\"Navin\", 2)\n",
    "\n",
    "s1.show()\n",
    "s1.lap.brand # This is one way\n",
    "# If I wanna create another object of it:\n",
    "lap1 = s1.lap # imo this is just referncing - doesn't create a new object just referring to lap object created inside using constructor of Laptop. - Creation of an object is using a constructor of that class only - remember # check: \n",
    "print(type(lap1))\n",
    "lap2 = s2.lap\n",
    "# For every Student object there is a Laptop object\n",
    "print(id(lap1))\n",
    "print(id(lap2))\n",
    "\n",
    "# So, If I wanna create an object of Laptop, we should be creating that object inside the Outer Class - so the object of Laptop\n",
    "# should be inside the Student Class."
   ]
  },
  {
   "cell_type": "code",
   "execution_count": 12,
   "id": "1260c8d7",
   "metadata": {},
   "outputs": [],
   "source": [
    "# Another way is to create a separate/different class but sometimes when you know that this class will be used for only Student\n",
    "# and nothing else then you don't have to create a separate class for that - you can do that in the Student Class itself.\n",
    "\n",
    "# Now can I directly create an object of Laptop class outside the Student class - I don't wanna get the object of Laptop inside\n",
    "# the Student class - can I do it outside directly:\n",
    "\n",
    "lap1 = Student.Laptop() # We cannot access Laptop directly because Laptop Class Belongs to the Student Class - we cannot create\n",
    "# directly\n",
    "\n",
    "# So, you can create an object of inner class inside the outer class or you can create object of inner class outside the outer\n",
    "# class provided you use outer class name to call it."
   ]
  },
  {
   "cell_type": "code",
   "execution_count": 10,
   "id": "c8e07fc0",
   "metadata": {},
   "outputs": [
    {
     "name": "stdout",
     "output_type": "stream",
     "text": [
      "Hrithik 67\n",
      "HP i3 16\n"
     ]
    }
   ],
   "source": [
    "s1.show()"
   ]
  },
  {
   "cell_type": "code",
   "execution_count": 13,
   "id": "a200209e",
   "metadata": {},
   "outputs": [
    {
     "name": "stdout",
     "output_type": "stream",
     "text": [
      "HP i3 16\n"
     ]
    }
   ],
   "source": [
    "lap1.show()"
   ]
  },
  {
   "cell_type": "code",
   "execution_count": 14,
   "id": "2ea2c002",
   "metadata": {},
   "outputs": [],
   "source": [
    "# Inheritance:\n",
    "# It is like parent-child relationship - my phone is my phone but my parent's phone is also mine.\n",
    "# We do this in OOPs using Classes: A Class inheriting another class:eg:"
   ]
  },
  {
   "cell_type": "code",
   "execution_count": 18,
   "id": "92844e67",
   "metadata": {},
   "outputs": [
    {
     "name": "stdout",
     "output_type": "stream",
     "text": [
      "Feature 1 is working.\n",
      "Feature 2 is working.\n",
      "Feature 1 is working.\n",
      "Feature 2 is working.\n",
      "Feature 3 is working.\n",
      "Feature 4 is working.\n"
     ]
    }
   ],
   "source": [
    "class A: # Parent/Super Class\n",
    "    def feature1(self):\n",
    "        print(\"Feature 1 is working.\")\n",
    "    def feature2(self):\n",
    "        print(\"Feature 2 is working.\")\n",
    "        \n",
    "class B(A): # B is a child/sub class of A - it'll import all the features of A into itself. So, this class B is inheriting all the features from A\n",
    "    def feature3(self):\n",
    "        print(\"Feature 3 is working.\")\n",
    "    def feature4(self):\n",
    "        print(\"Feature 4 is working.\")\n",
    "    \n",
    "a1 = A()\n",
    "\n",
    "a1.feature1()\n",
    "a1.feature2()\n",
    "\n",
    "b1 = B()\n",
    "\n",
    "b1.feature1()\n",
    "b1.feature2()\n",
    "b1.feature3()\n",
    "b1.feature4()"
   ]
  },
  {
   "cell_type": "code",
   "execution_count": 19,
   "id": "b72495b8",
   "metadata": {},
   "outputs": [
    {
     "name": "stdout",
     "output_type": "stream",
     "text": [
      "Feature 1 is working.\n",
      "Feature 2 is working.\n",
      "Feature 3 is working.\n",
      "Feature 4 is working.\n",
      "Feature 5 is working.\n"
     ]
    }
   ],
   "source": [
    "# When we work on a project, we have a v big team so for eg if one person is defining a class, in that class, it provides you\n",
    "# 4 features or 4 methods. Now, maybe you wanna define some another class in which you need some extra features and you also\n",
    "# want those existing features. Now, you don't have to redefine it, you can reuse it by inheriting the prior class to our new class.\n",
    "\n",
    "# Now, I wanna get features of class A in B - using inheritance used above.\n",
    "# The above is known as single level inheritance.\n",
    "\n",
    "# Multilevel Inheritance:\n",
    "\n",
    "class A: # Grandparent or Grandparent of A or Parent of B\n",
    "    def feature1(self):\n",
    "        print(\"Feature 1 is working.\")\n",
    "    def feature2(self):\n",
    "        print(\"Feature 2 is working.\")\n",
    "        \n",
    "class B(A): # Parent or Child of A or Parent of C\n",
    "    def feature3(self):\n",
    "        print(\"Feature 3 is working.\")\n",
    "    def feature4(self):\n",
    "        print(\"Feature 4 is working.\")\n",
    "\n",
    "class C(B): # Child or Grandchild of A or Child of B\n",
    "    def feature5(self):\n",
    "        print(\"Feature 5 is working.\")\n",
    "        \n",
    "c1 = C()\n",
    "\n",
    "c1.feature1()\n",
    "c1.feature2()\n",
    "c1.feature3()\n",
    "c1.feature4()\n",
    "c1.feature5()"
   ]
  },
  {
   "cell_type": "code",
   "execution_count": 20,
   "id": "1c5bccca",
   "metadata": {},
   "outputs": [
    {
     "name": "stdout",
     "output_type": "stream",
     "text": [
      "Feature 1 is working.\n",
      "Feature 2 is working.\n",
      "Feature 3 is working.\n",
      "Feature 4 is working.\n",
      "Feature 5 is working.\n"
     ]
    }
   ],
   "source": [
    "# Multiple Inheritance:\n",
    "\n",
    "# A and B are 2 different class - not related to each other and C says I wanna access features from A and B\n",
    "\n",
    "class A:\n",
    "    def feature1(self):\n",
    "        print(\"Feature 1 is working.\")\n",
    "    def feature2(self):\n",
    "        print(\"Feature 2 is working.\")\n",
    "        \n",
    "class B:\n",
    "    def feature3(self):\n",
    "        print(\"Feature 3 is working.\")\n",
    "    def feature4(self):\n",
    "        print(\"Feature 4 is working.\")\n",
    "\n",
    "class C(A,B): # C derives from Both A and B.\n",
    "    def feature5(self):\n",
    "        print(\"Feature 5 is working.\")\n",
    "        \n",
    "c1 = C()\n",
    "\n",
    "c1.feature1()\n",
    "c1.feature2()\n",
    "c1.feature3()\n",
    "c1.feature4()\n",
    "c1.feature5()"
   ]
  },
  {
   "cell_type": "code",
   "execution_count": 22,
   "id": "dd25ff04",
   "metadata": {},
   "outputs": [],
   "source": [
    "# ! OOPs Concept: Inheritance: If you already have some classes and you wanna use the existing features, so a new class can take\n",
    "# the features from those already defined classes. Also, it is one way if A is inheriting B then we can access all features of A in B and not vice versa.\n",
    "\n",
    "# Constructor in Inheritance:"
   ]
  },
  {
   "cell_type": "code",
   "execution_count": 23,
   "id": "03a646e8",
   "metadata": {},
   "outputs": [
    {
     "name": "stdout",
     "output_type": "stream",
     "text": [
      "In A init\n",
      "In A init\n"
     ]
    }
   ],
   "source": [
    "class A: \n",
    "    def __init__(self):\n",
    "        print(\"In A init\")\n",
    "    def feature1(self):\n",
    "        print(\"Feature 1 is working.\")\n",
    "    def feature2(self):\n",
    "        print(\"Feature 2 is working.\")\n",
    "        \n",
    "class B(A):\n",
    "    def feature3(self):\n",
    "        print(\"Feature 3 is working.\")\n",
    "    def feature4(self):\n",
    "        print(\"Feature 4 is working.\")\n",
    "        \n",
    "a1 = A() # I'm creating an object of class A - it will call a method which is init - even if we don't define it, it is there somewhere - but we are defining one init method here\n",
    "\n",
    "b1 = B() # If I create an object of class B will it call the constuctor of class A when class B inherits class A."
   ]
  },
  {
   "cell_type": "code",
   "execution_count": 24,
   "id": "200f2c66",
   "metadata": {},
   "outputs": [],
   "source": [
    "# So, the above line is true.\n",
    "\n",
    "# Since we don't have init method in B that is why it is going to A's init method"
   ]
  },
  {
   "cell_type": "code",
   "execution_count": 25,
   "id": "ad8688aa",
   "metadata": {},
   "outputs": [
    {
     "name": "stdout",
     "output_type": "stream",
     "text": [
      "In B init\n"
     ]
    }
   ],
   "source": [
    "class A: \n",
    "    def __init__(self):\n",
    "        print(\"In A init\")\n",
    "    def feature1(self):\n",
    "        print(\"Feature 1 is working.\")\n",
    "    def feature2(self):\n",
    "        print(\"Feature 2 is working.\")\n",
    "        \n",
    "class B(A):\n",
    "    def __init__(self):\n",
    "        print(\"In B init\")\n",
    "    def feature3(self):\n",
    "        print(\"Feature 3 is working.\")\n",
    "    def feature4(self):\n",
    "        print(\"Feature 4 is working.\")\n",
    "        \n",
    "b1 = B()"
   ]
  },
  {
   "cell_type": "code",
   "execution_count": 27,
   "id": "f9cf69d2",
   "metadata": {},
   "outputs": [],
   "source": [
    "# So, if we create an object of B, first it'll try to find the init of B, if it doesn't find it, then it goes for the init of A.\n",
    "\n",
    "# But, what if you also wanna call the init method of A - if I create an object of B, can I call the init of both the class, A\n",
    "# and B. By default, it'll(creating an object of B) only call the init method of B. To call the init method of A as well, we\n",
    "# use a keyword - super:"
   ]
  },
  {
   "cell_type": "code",
   "execution_count": 28,
   "id": "91e1813f",
   "metadata": {},
   "outputs": [
    {
     "name": "stdout",
     "output_type": "stream",
     "text": [
      "In A init\n",
      "In B init\n"
     ]
    }
   ],
   "source": [
    "class A: \n",
    "    def __init__(self):\n",
    "        print(\"In A init\")\n",
    "    def feature1(self):\n",
    "        print(\"Feature 1 is working.\")\n",
    "    def feature2(self):\n",
    "        print(\"Feature 2 is working.\")\n",
    "        \n",
    "class B(A):\n",
    "    def __init__(self):\n",
    "        super().__init__() # Using super we can access all the features of the super class. The moment you say super you are representing the super class.\n",
    "        print(\"In B init\")\n",
    "    def feature3(self):\n",
    "        print(\"Feature 3 is working.\")\n",
    "    def feature4(self):\n",
    "        print(\"Feature 4 is working.\")\n",
    "        \n",
    "b1 = B()"
   ]
  },
  {
   "cell_type": "code",
   "execution_count": 29,
   "id": "adcdd37e",
   "metadata": {},
   "outputs": [],
   "source": [
    "# So, when you create the object of B, it'll call the init of B first and from the init of B we are trying to call the init of A."
   ]
  },
  {
   "cell_type": "code",
   "execution_count": 31,
   "id": "4bcab93c",
   "metadata": {},
   "outputs": [],
   "source": [
    "# New thing:"
   ]
  },
  {
   "cell_type": "code",
   "execution_count": 35,
   "id": "72537f37",
   "metadata": {},
   "outputs": [
    {
     "name": "stdout",
     "output_type": "stream",
     "text": [
      "In C init\n"
     ]
    }
   ],
   "source": [
    "class A: \n",
    "    def __init__(self):\n",
    "        print(\"In A init\")\n",
    "    def feature1(self):\n",
    "        print(\"Feature 1 is working.\")\n",
    "    def feature2(self):\n",
    "        print(\"Feature 2 is working.\")\n",
    "        \n",
    "class B:\n",
    "    def __init__(self):\n",
    "        print(\"In B init\")\n",
    "    def feature3(self):\n",
    "        print(\"Feature 3 is working.\")\n",
    "    def feature4(self):\n",
    "        print(\"Feature 4 is working.\")\n",
    "        \n",
    "class C(A,B):\n",
    "    def __init__(self):\n",
    "        print(\"In C init\")\n",
    "        \n",
    "c1 = C()"
   ]
  },
  {
   "cell_type": "code",
   "execution_count": 33,
   "id": "1c51e103",
   "metadata": {},
   "outputs": [],
   "source": [
    "# Now, I wanna call the init method of a super class but C has 2 super classes: Will it call init of A or of B:"
   ]
  },
  {
   "cell_type": "code",
   "execution_count": 36,
   "id": "5b289385",
   "metadata": {},
   "outputs": [
    {
     "name": "stdout",
     "output_type": "stream",
     "text": [
      "In A init\n",
      "In C init\n"
     ]
    }
   ],
   "source": [
    "class A: \n",
    "    def __init__(self):\n",
    "        print(\"In A init\")\n",
    "    def feature1(self):\n",
    "        print(\"Feature 1 is working.\")\n",
    "    def feature2(self):\n",
    "        print(\"Feature 2 is working.\")\n",
    "        \n",
    "class B:\n",
    "    def __init__(self):\n",
    "        print(\"In B init\")\n",
    "    def feature3(self):\n",
    "        print(\"Feature 3 is working.\")\n",
    "    def feature4(self):\n",
    "        print(\"Feature 4 is working.\")\n",
    "        \n",
    "class C(A,B):\n",
    "    def __init__(self):\n",
    "        super().__init__()\n",
    "        print(\"In C init\")\n",
    "        \n",
    "c1 = C()"
   ]
  },
  {
   "cell_type": "code",
   "execution_count": 37,
   "id": "f82b1016",
   "metadata": {},
   "outputs": [],
   "source": [
    "# We are biased towards A.\n",
    "# We have a concept MRO: Method Resolution Order: Whenever we have multiple inheritance - it always starts from left to right. \n",
    "# So, when we create an object of C it'll try to find the init of itself that is of C, it'll execute the init of C and when we\n",
    "# say super().__init__() and we have class C(A,B) and as in the left hand side class A is written so it'll prefer class A and \n",
    "# that is why we got in A init as the output.\n",
    "\n",
    "# The same thing can be done for methods:"
   ]
  },
  {
   "cell_type": "code",
   "execution_count": 41,
   "id": "2fca1604",
   "metadata": {},
   "outputs": [
    {
     "name": "stdout",
     "output_type": "stream",
     "text": [
      "In A init\n",
      "In C init\n",
      "Feature 1-A is working.\n",
      "Feature 2 is working.\n"
     ]
    }
   ],
   "source": [
    "class A: \n",
    "    def __init__(self):\n",
    "        print(\"In A init\")\n",
    "    def feature1(self):\n",
    "        print(\"Feature 1-A is working.\")\n",
    "    def feature2(self):\n",
    "        print(\"Feature 2 is working.\")\n",
    "        \n",
    "class B:\n",
    "    def __init__(self):\n",
    "        print(\"In B init\")\n",
    "    def feature1(self):\n",
    "        print(\"Feature 1-B is working.\")\n",
    "    def feature4(self):\n",
    "        print(\"Feature 2 is working.\")\n",
    "        \n",
    "class C(A,B):\n",
    "    def __init__(self):\n",
    "        super().__init__()\n",
    "        print(\"In C init\")\n",
    "    def feat(self): # In this function I'm trying to call a method of a super class - with the help of super() we are trying to call a function - like we called the init method of super class using super() in init of the child class.\n",
    "        super().feature2()\n",
    "        \n",
    "# We have feature1 in both classes A and B, that is they have the same name. Now I call feature1 from C which inherits A and B\n",
    "# so, now from the left to right rule, feature1 of A will be called. MRO is left to right.\n",
    "\n",
    "c1 = C()\n",
    "c1.feature1()\n",
    "c1.feat()"
   ]
  },
  {
   "cell_type": "code",
   "execution_count": 42,
   "id": "96f96128",
   "metadata": {},
   "outputs": [],
   "source": [
    "# So, we can use the super method to call other methods as well - not just init method. So, to represent the super class, we use\n",
    "# the super method.\n",
    "\n",
    "# Polymorphism - Poly means many and morph means form - one thing can take multiple forms - as humans we have different forms.\n",
    "# As a situation changes, we change ourselves, we behave differently when we are at office and we behave differently when we\n",
    "# are with our friends - we are polymorphic - In OOPs objects will have multiple forms. We use this concept in Loose Coupling,\n",
    "# Dependency Injection, Interface. \n",
    "# There are 4 ways to implements Polymorphism in Python - Duck Typing, Operator Overloading, Method Overloading, Method Overriding.\n",
    "# Polymorphism means you have one thing which will behave in different ways or we can say one thing and multiple forms.\n",
    "\n",
    "# Famous saying: If there is a bird which is walking like a duck, quacking like a duck and swimming like a duck, that bird is a\n",
    "# duck. Duck Test: If it looks like a duck, if it swims like a duck and if it quacks like a duck then it is probably a duck.\n",
    "# This simply means that it doesn't matter if it is a duck or not, what matters is that the behaviour of that bird is if it is\n",
    "# matching with a duck then that is a duck - implementing that in programming. Eg:"
   ]
  },
  {
   "cell_type": "code",
   "execution_count": 44,
   "id": "1cdae991",
   "metadata": {},
   "outputs": [],
   "source": [
    "x = 5 \n",
    "x = 'Navin'\n",
    "# Python has the concept of dynamic typing which means the type you can mention later.\n",
    "# the type which we are representing now is integer but what if you say X equal\n",
    "# to let's say if 'Navin' are we changing the type of X here so that's not the case what is happening here is when you say 5\n",
    "# in your memory you've got a space which is of type integer when you say 'Navin' in your memory you've got a space which\n",
    "# is of type string the x is just a name to it okay so when you say X equal to 5 there's an object of type integer\n",
    "# you are just naming it as x later when you say you've got Naveen you've got some space in your memory and you are \n",
    "# representing that with x. x is just aname to it okay so we don't have specific type to x the moment you say\n",
    "# type of x you're actually getting the type of 5 when you get the type of x you are getting the type of Navin right so\n",
    "# that's one thing at remember the moment you give a variable a name that's just a name to our memory."
   ]
  },
  {
   "cell_type": "code",
   "execution_count": 45,
   "id": "32979062",
   "metadata": {},
   "outputs": [],
   "source": [
    "# Another example  to understand duck typing:"
   ]
  },
  {
   "cell_type": "code",
   "execution_count": 49,
   "id": "5e8d1b70",
   "metadata": {},
   "outputs": [
    {
     "name": "stdout",
     "output_type": "stream",
     "text": [
      "Compiling\n",
      "Runnning\n"
     ]
    }
   ],
   "source": [
    "class PyCharm:\n",
    "    def execute(self):\n",
    "        print(\"Compiling\")\n",
    "        print(\"Runnning\")\n",
    "\n",
    "class Laptop:\n",
    "    def code(self,ide): \n",
    "        ide.execute()\n",
    "        \n",
    "ide = PyCharm() # Type of ide which we are working with is PyCharm which is user-defined ofc. \n",
    "        \n",
    "lap1 = Laptop()\n",
    "lap1.code(ide)\n",
    "        \n",
    "# so in this code() what I will do is I want to execute my code right so as a programmer what we do is we write code and\n",
    "# we compile it we run it and we get the output at the end but then to do that we also need an IDE which is \n",
    "# integrated development environment and in this case if you wanted a code you need to pass an IDE so we are expecting\n",
    "# in the arguments that someone will pass an IDE to us.\n",
    "\n",
    "# So, the question is that ide is of what type - is it float or int or etc. Now, when we say\n",
    "# execute() that means this is something which is not there in the existing classes which you have that means the type of\n",
    "# IDE is something very unique it is something which is user is defining right that means if you want to create\n",
    "# this object IDE you need to create your own class: Pycharm for eg here"
   ]
  },
  {
   "cell_type": "code",
   "execution_count": 50,
   "id": "f0162e54",
   "metadata": {},
   "outputs": [
    {
     "name": "stdout",
     "output_type": "stream",
     "text": [
      "Spell Check\n",
      "Convention Check\n",
      "Compiling\n",
      "Runnning\n"
     ]
    }
   ],
   "source": [
    "# But, is the type of ide fixed in the above eg, can we change the type of ide later? Now what if I wanna change the type of ide\n",
    "# Is the ide type fixed to PyCharm, not exactly because this is dynamic typing, so you can replace this ide type from \n",
    "# PyCharm to MyEditor provided you have that method which is execute() in the class of the editor that I am defining.\n",
    "# it doesn't matter which class object you are passing in code() what matters is that object should have the execute method.\n",
    "# because in Laptop class, in ide we are saying execute (ide.execute()) so now even if you change from PyCharm to\n",
    "# MyEditor there is no problem the code will still work provided you have that method which is execute() in MyEditor class.\n",
    "\n",
    "# So, this is the case, that if  if there's a\n",
    "# bird and if that bird behaves like a\n",
    "# duck it walks like a duck it quacks like\n",
    "# a duck it swims like a duck it should be\n",
    "# a duck in the same way if there is an\n",
    "# object which is IDE and it has a method\n",
    "# execute that said we are not concerned\n",
    "# about which class object it is what we\n",
    "# are concerned about it should have that\n",
    "# method which is execute and that is\n",
    "# called as duck typing.\n",
    "\n",
    "# In other languages, we have a concept of interface as well eg in JAVA - we create interface and we have this MyEditor and\n",
    "# PyCharm as a class which will implement that interface.\n",
    "\n",
    "class PyCharm:\n",
    "    def execute(self):\n",
    "        print(\"Compiling\")\n",
    "        print(\"Runnning\")\n",
    "        \n",
    "class MyEditor: # Another IDE\n",
    "    def execute(self):\n",
    "        print(\"Spell Check\")\n",
    "        print(\"Convention Check\")\n",
    "        print(\"Compiling\")\n",
    "        print(\"Runnning\")\n",
    "\n",
    "class Laptop:\n",
    "    def code(self,ide): \n",
    "        ide.execute()\n",
    "        \n",
    "ide = MyEditor()\n",
    "        \n",
    "lap1 = Laptop()\n",
    "lap1.code(ide)"
   ]
  },
  {
   "cell_type": "code",
   "execution_count": 51,
   "id": "5e96c6db",
   "metadata": {},
   "outputs": [],
   "source": [
    "# Operator Overloading:"
   ]
  },
  {
   "cell_type": "code",
   "execution_count": 58,
   "id": "8afb3223",
   "metadata": {},
   "outputs": [
    {
     "name": "stdout",
     "output_type": "stream",
     "text": [
      "11\n",
      "11\n",
      "56\n",
      "56\n"
     ]
    }
   ],
   "source": [
    "# so we know the concept of operators: example if you want to add two numbers you can say 5 + 6. 5 & 6 are the operand and + is\n",
    "# the operator. Then we have a concept of polymorphism so it simply means you have one thing which has multiple forms. Now, if\n",
    "# you can think about this we have two integers and then we are trying to add them. We can also add an integer and a float,\n",
    "# so in different programming languages it does support, what about two strings so if you say you have two strings let's say\n",
    "# hello + world will it work and there's this yes right so + works with the strings as well but what if you want to say:\n",
    "\n",
    "# a = 5\n",
    "# b = \"World\"\n",
    "# print(a+b)\n",
    "\n",
    "# Error: says unsupported operand types for + , so we cannot use int and string for + right so all these things are pre-defined\n",
    "# all these things they are called as a synthetic sugar which simply means it is trying to simplify the code for the\n",
    "# user but behind the scene things are a bit different. Now say:\n",
    "a = 5\n",
    "b = 6\n",
    "# now what do you think what is happening behind the scene? Whatever happens in Python happens with the help of object. Here,\n",
    "# when we type the above 2 statements, the type of a and b is int. So, int is a class and when we say class, a class will have\n",
    "# certain methods. So, behind the scene what is happening is when we say a+b which is of type integer, it is calling something.\n",
    "# When we say a+b, this expression calls something that is the plus operator calls. So, behind the scene it is calling:\n",
    "print(int.__add__(a,b)) # print(a+b), this behind the scenes\n",
    "print(a+b)\n",
    "# The above 2 lines do the same thing. The first one looks cool as it is more close to us since childhood we write like this. \n",
    "# But, in programming whatever we do we do it with the help of methods and add() is a method which belongs to int class.\n",
    "# So, even If I say a+b, behind the scene int.__add__(a,b) method is being called.\n",
    "\n",
    "# When we say for eg:\n",
    "a = '5'\n",
    "b = '6'\n",
    "print(str.__add__(a,b)) # str also has an add() method\n",
    "print(a+b)\n",
    "\n",
    "# Now, if we try to for eg add an integer and a string, it'll not work because inbuilt class doesn't have a method for doing this.\n",
    "# So, the moment we put a + operator, it calls the add() method. The moment we a - operator, it calls sub(), etc so we have\n",
    "# diff methods for diff operators - these methods are called magic methods. So, all these operators behind the scenes work as \n",
    "# methods. Understanding Operator Overloading eg:"
   ]
  },
  {
   "cell_type": "code",
   "execution_count": 59,
   "id": "06f12f27",
   "metadata": {},
   "outputs": [
    {
     "ename": "TypeError",
     "evalue": "unsupported operand type(s) for +: 'Student' and 'Student'",
     "output_type": "error",
     "traceback": [
      "\u001b[1;31m---------------------------------------------------------------------------\u001b[0m",
      "\u001b[1;31mTypeError\u001b[0m                                 Traceback (most recent call last)",
      "\u001b[1;32m~\\AppData\\Local\\Temp/ipykernel_6180/2328480051.py\u001b[0m in \u001b[0;36m<module>\u001b[1;34m\u001b[0m\n\u001b[0;32m     13\u001b[0m \u001b[1;31m# operator with student class that's a question:\u001b[0m\u001b[1;33m\u001b[0m\u001b[1;33m\u001b[0m\u001b[0m\n\u001b[0;32m     14\u001b[0m \u001b[1;33m\u001b[0m\u001b[0m\n\u001b[1;32m---> 15\u001b[1;33m \u001b[0ms3\u001b[0m \u001b[1;33m=\u001b[0m \u001b[0ms1\u001b[0m \u001b[1;33m+\u001b[0m \u001b[0ms2\u001b[0m\u001b[1;33m\u001b[0m\u001b[1;33m\u001b[0m\u001b[0m\n\u001b[0m",
      "\u001b[1;31mTypeError\u001b[0m: unsupported operand type(s) for +: 'Student' and 'Student'"
     ]
    }
   ],
   "source": [
    "class Student:\n",
    "    \n",
    "    def __init__(self,m1,m2):\n",
    "        self.m1 = m1\n",
    "        self.m2 = m2\n",
    "        \n",
    "s1 = Student(58,69)\n",
    "s2 = Student(60,65)\n",
    "\n",
    "# now I want to apply the operator here which is plus operator so I want to add these 2 students so the moment I say\n",
    "# s1 plus s2 I want a different student object. It possible to do that because now we know that plus operator means it will\n",
    "# add two values but it is possible with help of integer, it is possible with help of string, is it possible to use plus\n",
    "# operator with student class that's a question:\n",
    "\n",
    "s3 = s1 + s2"
   ]
  },
  {
   "cell_type": "code",
   "execution_count": 61,
   "id": "16c2a254",
   "metadata": {},
   "outputs": [
    {
     "name": "stdout",
     "output_type": "stream",
     "text": [
      "118\n"
     ]
    }
   ],
   "source": [
    "# The above error comes. We can use plus between Student and Student because we have not defined it. behind the scene \n",
    "# even if you use plus with integers it will be calling a add method but if you see our class we don't have\n",
    "# that add method right because if you say s1 plus s2 how your compiler how your Python will know what to do and that's\n",
    "# where you have to define it:\n",
    "# the moment anyone says plus of a student you need to call this method called as add. So , you can overload operator you can\n",
    "# change the definition for it, you can define anything you want.\n",
    "\n",
    "class Student:\n",
    "    \n",
    "    def __init__(self,m1,m2):\n",
    "        self.m1 = m1\n",
    "        self.m2 = m2\n",
    "    \n",
    "    def __add__(self,other): # We can change the variable name for eg, other or o.\n",
    "        m1 = self.m1 + other.m1\n",
    "        m2 = self.m2 + other.m2\n",
    "        s3 = Student(m1,m2)\n",
    "        return s3\n",
    "        \n",
    "s1 = Student(58,69)\n",
    "s2 = Student(60,65)\n",
    "\n",
    "s3 = s1 + s2 # So, behind the scenes this code is getting converted into -> Student.add(s1,s2)\n",
    "\n",
    "print(s3.m1)"
   ]
  },
  {
   "cell_type": "code",
   "execution_count": 62,
   "id": "104e4533",
   "metadata": {},
   "outputs": [],
   "source": [
    "# so if you want to add two students you need to overload the operator of plus because integer knows what is plus, string knows\n",
    "# what is a plus, but, your student class don't know what is that plus means so plus means call the __add__() method but we\n",
    "# don't have an add method here so we have to define our own method. The same thing can be done with subtraction which is minus, \n",
    "#same thing can be done with multiplication. Type def __ in PyCharm while creating the methods and see what all methods are\n",
    "# available. Eg, __add__,__mul__,__eq__,etc - so everything is pre-defined you can just use them.\n",
    "\n",
    "#For the above eg, Let's try compare:"
   ]
  },
  {
   "cell_type": "code",
   "execution_count": 63,
   "id": "4e277652",
   "metadata": {},
   "outputs": [
    {
     "name": "stdout",
     "output_type": "stream",
     "text": [
      "118\n"
     ]
    },
    {
     "ename": "TypeError",
     "evalue": "'>' not supported between instances of 'Student' and 'Student'",
     "output_type": "error",
     "traceback": [
      "\u001b[1;31m---------------------------------------------------------------------------\u001b[0m",
      "\u001b[1;31mTypeError\u001b[0m                                 Traceback (most recent call last)",
      "\u001b[1;32m~\\AppData\\Local\\Temp/ipykernel_6180/3542433315.py\u001b[0m in \u001b[0;36m<module>\u001b[1;34m\u001b[0m\n\u001b[0;32m     24\u001b[0m \u001b[0mprint\u001b[0m\u001b[1;33m(\u001b[0m\u001b[0ms3\u001b[0m\u001b[1;33m.\u001b[0m\u001b[0mm1\u001b[0m\u001b[1;33m)\u001b[0m\u001b[1;33m\u001b[0m\u001b[1;33m\u001b[0m\u001b[0m\n\u001b[0;32m     25\u001b[0m \u001b[1;33m\u001b[0m\u001b[0m\n\u001b[1;32m---> 26\u001b[1;33m \u001b[1;32mif\u001b[0m \u001b[0ms1\u001b[0m \u001b[1;33m>\u001b[0m \u001b[0ms2\u001b[0m\u001b[1;33m:\u001b[0m\u001b[1;33m\u001b[0m\u001b[1;33m\u001b[0m\u001b[0m\n\u001b[0m\u001b[0;32m     27\u001b[0m     \u001b[0mprint\u001b[0m\u001b[1;33m(\u001b[0m\u001b[1;34m\"s1 wins\"\u001b[0m\u001b[1;33m)\u001b[0m\u001b[1;33m\u001b[0m\u001b[1;33m\u001b[0m\u001b[0m\n\u001b[0;32m     28\u001b[0m \u001b[1;32melse\u001b[0m\u001b[1;33m:\u001b[0m\u001b[1;33m\u001b[0m\u001b[1;33m\u001b[0m\u001b[0m\n",
      "\u001b[1;31mTypeError\u001b[0m: '>' not supported between instances of 'Student' and 'Student'"
     ]
    }
   ],
   "source": [
    "# I wanna compare if 2 objects are >= \n",
    "\n",
    "# so what they're trying to do here is whoever has maximum marks they will win but when you say max exam marks how do\n",
    "# you check it because we are not defining it. Maybe I want to check one of the first marks which is m1 or maybe I want to \n",
    "# check m2 or maybe the addition of both.\n",
    "\n",
    "class Student:\n",
    "    \n",
    "    def __init__(self,m1,m2):\n",
    "        self.m1 = m1\n",
    "        self.m2 = m2\n",
    "    \n",
    "    def __add__(self,other): \n",
    "        m1 = self.m1 + other.m1\n",
    "        m2 = self.m2 + other.m2\n",
    "        s3 = Student(m1,m2)\n",
    "        return s3\n",
    "        \n",
    "s1 = Student(58,69)\n",
    "s2 = Student(60,65)\n",
    "\n",
    "s3 = s1 + s2\n",
    "\n",
    "print(s3.m1)\n",
    "\n",
    "if s1 > s2:\n",
    "    print(\"s1 wins\")\n",
    "else:\n",
    "    print(\"s2 wins\")\n",
    "    \n",
    "# Run: it will give you an error by saying the greater than symbol not supported between two instances of student but it's\n",
    "# supported for integers because it is pre-defined. If you want to make it work you have to define a function GT which is\n",
    "# greater than. ge is greater than or equal to. Resolve:"
   ]
  },
  {
   "cell_type": "code",
   "execution_count": 64,
   "id": "336069ab",
   "metadata": {},
   "outputs": [
    {
     "name": "stdout",
     "output_type": "stream",
     "text": [
      "118\n",
      "s1 wins\n"
     ]
    }
   ],
   "source": [
    "class Student:\n",
    "    \n",
    "    def __init__(self,m1,m2):\n",
    "        self.m1 = m1\n",
    "        self.m2 = m2\n",
    "    \n",
    "    def __add__(self,other): \n",
    "        m1 = self.m1 + other.m1\n",
    "        m2 = self.m2 + other.m2\n",
    "        s3 = Student(m1,m2)\n",
    "        return s3\n",
    "    \n",
    "    def __gt__(self,other):\n",
    "        # s1 = self.m1 + self.m2\n",
    "        # s2 = other.m1 + other.m2\n",
    "        # if s1 > s2 # here s1 and s2 are integers as defined in the above 2 local variable names. Taking other names can also do for clarity:\n",
    "        r1 = self.m1 + self.m2\n",
    "        r2 = other.m1 + other.m2\n",
    "        if r1 > r2:\n",
    "            return True\n",
    "        else:\n",
    "            return False\n",
    "            \n",
    "    \n",
    "s1 = Student(58,69)\n",
    "s2 = Student(60,65)\n",
    "\n",
    "s3 = s1 + s2\n",
    "\n",
    "print(s3.m1)\n",
    "\n",
    "if s1 > s2:\n",
    "    print(\"s1 wins\")\n",
    "else:\n",
    "    print(\"s2 wins\")\n",
    "    \n",
    "# so if you want to perform any operation on the objects which are user-defined you have to define all these methods."
   ]
  },
  {
   "cell_type": "code",
   "execution_count": 65,
   "id": "b71ec121",
   "metadata": {},
   "outputs": [
    {
     "name": "stdout",
     "output_type": "stream",
     "text": [
      "9\n",
      "<__main__.Student object at 0x00000188315DAD30>\n"
     ]
    }
   ],
   "source": [
    "# Another Example:\n",
    "\n",
    "a = 9\n",
    "print(a) # Prints the value of a and not the address of a\n",
    "# But:\n",
    "print(s1) # Prints the address of s1 and not the values of s1"
   ]
  },
  {
   "cell_type": "code",
   "execution_count": 66,
   "id": "ed469126",
   "metadata": {},
   "outputs": [],
   "source": [
    "# We don't want the address of s1, we want the values.\n",
    "# When you try to print the object it doesn't matter is it integer or your class, behind the scenes it is calling a method\n",
    "# called as STR. print(a) calls a.__str__()"
   ]
  },
  {
   "cell_type": "code",
   "execution_count": 69,
   "id": "9a615524",
   "metadata": {},
   "outputs": [
    {
     "data": {
      "text/plain": [
       "'9'"
      ]
     },
     "execution_count": 69,
     "metadata": {},
     "output_type": "execute_result"
    }
   ],
   "source": [
    "a.__str__()"
   ]
  },
  {
   "cell_type": "code",
   "execution_count": 70,
   "id": "a1d33a20",
   "metadata": {},
   "outputs": [
    {
     "data": {
      "text/plain": [
       "9"
      ]
     },
     "execution_count": 70,
     "metadata": {},
     "output_type": "execute_result"
    }
   ],
   "source": [
    "a"
   ]
  },
  {
   "cell_type": "code",
   "execution_count": 71,
   "id": "5b396db3",
   "metadata": {},
   "outputs": [
    {
     "name": "stdout",
     "output_type": "stream",
     "text": [
      "9\n"
     ]
    }
   ],
   "source": [
    "print(a.__str__())"
   ]
  },
  {
   "cell_type": "code",
   "execution_count": 72,
   "id": "2f0e1105",
   "metadata": {},
   "outputs": [
    {
     "name": "stdout",
     "output_type": "stream",
     "text": [
      "9\n"
     ]
    }
   ],
   "source": [
    "print(a)"
   ]
  },
  {
   "cell_type": "code",
   "execution_count": 73,
   "id": "c32cf881",
   "metadata": {},
   "outputs": [
    {
     "data": {
      "text/plain": [
       "9"
      ]
     },
     "execution_count": 73,
     "metadata": {},
     "output_type": "execute_result"
    }
   ],
   "source": [
    "int(a.__str__())"
   ]
  },
  {
   "cell_type": "code",
   "execution_count": 74,
   "id": "38ad4c06",
   "metadata": {},
   "outputs": [
    {
     "name": "stdout",
     "output_type": "stream",
     "text": [
      "<method-wrapper '__str__' of Student object at 0x00000188315DAD30>\n"
     ]
    }
   ],
   "source": [
    "# In the same way print(s1) calls print(s1.__str__)\n",
    "print(s1.__str__)"
   ]
  },
  {
   "cell_type": "code",
   "execution_count": 75,
   "id": "a34f836d",
   "metadata": {},
   "outputs": [],
   "source": [
    "# The above output is coming as __str__ function is pre-defined - so even if we don't define str function in your own class\n",
    "# it is getting defined somewhere and that definition is printing the module name, name of the class and it is printing the \n",
    "# object address - we don't want that we want the values - so that means we need to override this method:"
   ]
  },
  {
   "cell_type": "code",
   "execution_count": 91,
   "id": "ce05f59f",
   "metadata": {},
   "outputs": [
    {
     "name": "stdout",
     "output_type": "stream",
     "text": [
      "118\n",
      "s1 wins\n",
      "9\n",
      "9\n",
      "58 69\n",
      "58 69\n"
     ]
    }
   ],
   "source": [
    "class Student:\n",
    "    \n",
    "    def __init__(self,m1,m2):\n",
    "        self.m1 = m1\n",
    "        self.m2 = m2\n",
    "    \n",
    "    def __add__(self,other): \n",
    "        m1 = self.m1 + other.m1\n",
    "        m2 = self.m2 + other.m2\n",
    "        s3 = Student(m1,m2)\n",
    "        return s3\n",
    "    \n",
    "    def __gt__(self,other):\n",
    "        r1 = self.m1 + self.m2\n",
    "        r2 = other.m1 + other.m2\n",
    "        if r1 > r2:\n",
    "            return True\n",
    "        else:\n",
    "            return False\n",
    "    \n",
    "    def __str__(self):\n",
    "        return '{} {}'.format(self.m1,self.m2) # Those curly brackets will be replaced by these values. So, we are returning a string now.\n",
    "        # or return str((self.m1,self.m2)) # if we don't type convert string it gives an error: __str__ returned non-string (type tuple) because by default when we wanna print we wanna print a string.            \n",
    "\n",
    "        \n",
    "s1 = Student(58,69)\n",
    "s2 = Student(60,65)\n",
    "\n",
    "s3 = s1 + s2\n",
    "\n",
    "print(s3.m1)\n",
    "\n",
    "if s1 > s2:\n",
    "    print(\"s1 wins\")\n",
    "else:\n",
    "    print(\"s2 wins\")\n",
    "\n",
    "print(a)\n",
    "print(a.__str__())\n",
    "print(s1.__str__())\n",
    "print(s1)"
   ]
  },
  {
   "cell_type": "code",
   "execution_count": 92,
   "id": "9668f3a1",
   "metadata": {},
   "outputs": [],
   "source": [
    "# so point to remember is whenever you perform any operator like addition subtraction divison behind-the-scene we\n",
    "# are calling methods.Eg for + we use __add__(self,other) method, for - we use __sub__(self,other) etc.\n",
    "# operator overloading which means you have operator like plus, minus or division or multiplication so the operator will\n",
    "# remain same but the operands will change, the type of parameters we are passing it will change. Eg, when we say +, we are\n",
    "# calling the __add__(self,other) method and this method takes different types of parameters - this is overloading - which\n",
    "# means you have the same method name but the arguments are different or in other words the number or the type (or both) of\n",
    "# arguments are different. - In this same way we have 2 more Polymorphism types: Method Overloading and Method Overriding.\n",
    "\n",
    "# Method Overloading: now languages like Java C sharp or any other oops language they have this concept of method overloading\n",
    "# which is not there in Python but what exactly it is so it simply means if you have a class and in that class if you have let's\n",
    "# say two methods with the same name but different parameters or arguments which is called as method overloading example let's\n",
    "# say if you have student class and in student class if you have two methods let's say average so we have two methods with the\n",
    "# same name average one takes two parameters one takes three parameters this follows method overloading. but in Python we don't\n",
    "# have this concept so we cannot create two methods with the same name. \n",
    "\n",
    "# Method Overriding: which means you have two methods with the same name and same number of parameters or arguments.\n",
    "# so that means can we create two methods of the same name and same number of parameters in the same class,\n",
    "# of course not. But let's say if you have a concept of inheritance we have Class A and Class B and both the class have the\n",
    "# same method with the same name and same number of parameters, this is called as method overriding."
   ]
  },
  {
   "cell_type": "code",
   "execution_count": 93,
   "id": "8becc193",
   "metadata": {},
   "outputs": [],
   "source": [
    "# If we wanna achieve method overloading in Python:"
   ]
  },
  {
   "cell_type": "code",
   "execution_count": 95,
   "id": "0fa183c5",
   "metadata": {},
   "outputs": [
    {
     "name": "stdout",
     "output_type": "stream",
     "text": [
      "14\n"
     ]
    }
   ],
   "source": [
    "# Eg: I wanna add 2 numbers:\n",
    "\n",
    "class Student:\n",
    "    \n",
    "    def __init__(self,m1,m2):\n",
    "        self.m1 = m1\n",
    "        self.m2 = m2\n",
    "        \n",
    "    def sum(self,a,b):\n",
    "        s = a + b\n",
    "        return s\n",
    "    \n",
    "s1 = Student(58,69)\n",
    "\n",
    "print(s1.sum(5,9))"
   ]
  },
  {
   "cell_type": "code",
   "execution_count": 96,
   "id": "95c7edfb",
   "metadata": {},
   "outputs": [
    {
     "ename": "TypeError",
     "evalue": "sum() takes 3 positional arguments but 4 were given",
     "output_type": "error",
     "traceback": [
      "\u001b[1;31m---------------------------------------------------------------------------\u001b[0m",
      "\u001b[1;31mTypeError\u001b[0m                                 Traceback (most recent call last)",
      "\u001b[1;32m~\\AppData\\Local\\Temp/ipykernel_6180/2765577338.py\u001b[0m in \u001b[0;36m<module>\u001b[1;34m\u001b[0m\n\u001b[0;32m      1\u001b[0m \u001b[1;31m# so we can create a method inside a class which takes two parameters and we can pass two parameters it works. What if you want\u001b[0m\u001b[1;33m\u001b[0m\u001b[1;33m\u001b[0m\u001b[0m\n\u001b[0;32m      2\u001b[0m \u001b[1;31m# to pass three values: 5,9,6, now this is not possible.\u001b[0m\u001b[1;33m\u001b[0m\u001b[1;33m\u001b[0m\u001b[0m\n\u001b[1;32m----> 3\u001b[1;33m \u001b[0mprint\u001b[0m\u001b[1;33m(\u001b[0m\u001b[0ms1\u001b[0m\u001b[1;33m.\u001b[0m\u001b[0msum\u001b[0m\u001b[1;33m(\u001b[0m\u001b[1;36m5\u001b[0m\u001b[1;33m,\u001b[0m\u001b[1;36m9\u001b[0m\u001b[1;33m,\u001b[0m\u001b[1;36m6\u001b[0m\u001b[1;33m)\u001b[0m\u001b[1;33m)\u001b[0m\u001b[1;33m\u001b[0m\u001b[1;33m\u001b[0m\u001b[0m\n\u001b[0m",
      "\u001b[1;31mTypeError\u001b[0m: sum() takes 3 positional arguments but 4 were given"
     ]
    }
   ],
   "source": [
    "# so we can create a method inside a class which takes two parameters and we can pass two parameters it works. What if you want\n",
    "# to pass three values: 5,9,6, now this is not possible.\n",
    "print(s1.sum(5,9,6))"
   ]
  },
  {
   "cell_type": "code",
   "execution_count": 97,
   "id": "70661ba7",
   "metadata": {},
   "outputs": [],
   "source": [
    "# Error as we are passing 3 parameters but accepting only 2. (for addition)"
   ]
  },
  {
   "cell_type": "code",
   "execution_count": 98,
   "id": "7a666210",
   "metadata": {},
   "outputs": [],
   "source": [
    "# That means you need to create another method called as sum which will take three arguments. That's what we do in other\n",
    "# languages but here we cannot. What you can do is:"
   ]
  },
  {
   "cell_type": "code",
   "execution_count": 99,
   "id": "71978dfc",
   "metadata": {},
   "outputs": [
    {
     "name": "stdout",
     "output_type": "stream",
     "text": [
      "20\n"
     ]
    }
   ],
   "source": [
    "class Student:\n",
    "    \n",
    "    def __init__(self,m1,m2):\n",
    "        self.m1 = m1\n",
    "        self.m2 = m2\n",
    "        \n",
    "    def sum(self,a,b,c): # we added one more parameter and summed it too.\n",
    "        s = a + b + c\n",
    "        return s\n",
    "    \n",
    "s1 = Student(58,69)\n",
    "\n",
    "print(s1.sum(5,9,6))"
   ]
  },
  {
   "cell_type": "code",
   "execution_count": 101,
   "id": "289a43a9",
   "metadata": {},
   "outputs": [
    {
     "ename": "TypeError",
     "evalue": "sum() missing 1 required positional argument: 'c'",
     "output_type": "error",
     "traceback": [
      "\u001b[1;31m---------------------------------------------------------------------------\u001b[0m",
      "\u001b[1;31mTypeError\u001b[0m                                 Traceback (most recent call last)",
      "\u001b[1;32m~\\AppData\\Local\\Temp/ipykernel_6180/2836336158.py\u001b[0m in \u001b[0;36m<module>\u001b[1;34m\u001b[0m\n\u001b[0;32m     15\u001b[0m \u001b[0ms1\u001b[0m \u001b[1;33m=\u001b[0m \u001b[0mStudent\u001b[0m\u001b[1;33m(\u001b[0m\u001b[1;36m58\u001b[0m\u001b[1;33m,\u001b[0m\u001b[1;36m69\u001b[0m\u001b[1;33m)\u001b[0m\u001b[1;33m\u001b[0m\u001b[1;33m\u001b[0m\u001b[0m\n\u001b[0;32m     16\u001b[0m \u001b[1;33m\u001b[0m\u001b[0m\n\u001b[1;32m---> 17\u001b[1;33m \u001b[0mprint\u001b[0m\u001b[1;33m(\u001b[0m\u001b[0ms1\u001b[0m\u001b[1;33m.\u001b[0m\u001b[0msum\u001b[0m\u001b[1;33m(\u001b[0m\u001b[1;36m5\u001b[0m\u001b[1;33m,\u001b[0m\u001b[1;36m9\u001b[0m\u001b[1;33m)\u001b[0m\u001b[1;33m)\u001b[0m\u001b[1;33m\u001b[0m\u001b[1;33m\u001b[0m\u001b[0m\n\u001b[0m",
      "\u001b[1;31mTypeError\u001b[0m: sum() missing 1 required positional argument: 'c'"
     ]
    }
   ],
   "source": [
    "# so we are passing three arguments and we are accepting three arguments it would work but what if I'm not passing third\n",
    "# argument I am passing two arguments and now the problem starts right because you are expected to pass the third\n",
    "#argument as well. \n",
    "\n",
    "class Student:\n",
    "    \n",
    "    def __init__(self,m1,m2):\n",
    "        self.m1 = m1\n",
    "        self.m2 = m2\n",
    "        \n",
    "    def sum(self,a,b,c): # we added one more parameter and summed it too.\n",
    "        s = a + b + c\n",
    "        return s\n",
    "    \n",
    "s1 = Student(58,69)\n",
    "\n",
    "print(s1.sum(5,9))"
   ]
  },
  {
   "cell_type": "code",
   "execution_count": 102,
   "id": "6d19aab1",
   "metadata": {},
   "outputs": [],
   "source": [
    "# How do we solve this:"
   ]
  },
  {
   "cell_type": "code",
   "execution_count": 105,
   "id": "de5eaab0",
   "metadata": {},
   "outputs": [
    {
     "ename": "SyntaxError",
     "evalue": "non-default argument follows default argument (Temp/ipykernel_6180/887921048.py, line 9)",
     "output_type": "error",
     "traceback": [
      "\u001b[1;36m  File \u001b[1;32m\"C:\\Users\\hrith\\AppData\\Local\\Temp/ipykernel_6180/887921048.py\"\u001b[1;36m, line \u001b[1;32m9\u001b[0m\n\u001b[1;33m    def sum(self,a = None,b,c): # we added one more parameter and summed it too.\u001b[0m\n\u001b[1;37m                            ^\u001b[0m\n\u001b[1;31mSyntaxError\u001b[0m\u001b[1;31m:\u001b[0m non-default argument follows default argument\n"
     ]
    }
   ],
   "source": [
    "# One way:\n",
    "\n",
    "class Student:\n",
    "    \n",
    "    def __init__(self,m1,m2):\n",
    "        self.m1 = m1\n",
    "        self.m2 = m2\n",
    "        \n",
    "    def sum(self,a = None,b,c):\n",
    "        s = a + b + c\n",
    "        return s\n",
    "    \n",
    "s1 = Student(58,69)\n",
    "\n",
    "print(s1.sum(5,9))"
   ]
  },
  {
   "cell_type": "code",
   "execution_count": 106,
   "id": "6106e425",
   "metadata": {},
   "outputs": [
    {
     "ename": "NameError",
     "evalue": "name 'none' is not defined",
     "output_type": "error",
     "traceback": [
      "\u001b[1;31m---------------------------------------------------------------------------\u001b[0m",
      "\u001b[1;31mNameError\u001b[0m                                 Traceback (most recent call last)",
      "\u001b[1;32m~\\AppData\\Local\\Temp/ipykernel_6180/2886474534.py\u001b[0m in \u001b[0;36m<module>\u001b[1;34m\u001b[0m\n\u001b[0;32m      2\u001b[0m \u001b[1;31m# One way:\u001b[0m\u001b[1;33m\u001b[0m\u001b[1;33m\u001b[0m\u001b[0m\n\u001b[0;32m      3\u001b[0m \u001b[1;33m\u001b[0m\u001b[0m\n\u001b[1;32m----> 4\u001b[1;33m \u001b[1;32mclass\u001b[0m \u001b[0mStudent\u001b[0m\u001b[1;33m:\u001b[0m\u001b[1;33m\u001b[0m\u001b[1;33m\u001b[0m\u001b[0m\n\u001b[0m\u001b[0;32m      5\u001b[0m \u001b[1;33m\u001b[0m\u001b[0m\n\u001b[0;32m      6\u001b[0m     \u001b[1;32mdef\u001b[0m \u001b[0m__init__\u001b[0m\u001b[1;33m(\u001b[0m\u001b[0mself\u001b[0m\u001b[1;33m,\u001b[0m\u001b[0mm1\u001b[0m\u001b[1;33m,\u001b[0m\u001b[0mm2\u001b[0m\u001b[1;33m)\u001b[0m\u001b[1;33m:\u001b[0m\u001b[1;33m\u001b[0m\u001b[1;33m\u001b[0m\u001b[0m\n",
      "\u001b[1;32m~\\AppData\\Local\\Temp/ipykernel_6180/2886474534.py\u001b[0m in \u001b[0;36mStudent\u001b[1;34m()\u001b[0m\n\u001b[0;32m      8\u001b[0m         \u001b[0mself\u001b[0m\u001b[1;33m.\u001b[0m\u001b[0mm2\u001b[0m \u001b[1;33m=\u001b[0m \u001b[0mm2\u001b[0m\u001b[1;33m\u001b[0m\u001b[1;33m\u001b[0m\u001b[0m\n\u001b[0;32m      9\u001b[0m \u001b[1;33m\u001b[0m\u001b[0m\n\u001b[1;32m---> 10\u001b[1;33m     \u001b[1;32mdef\u001b[0m \u001b[0msum\u001b[0m\u001b[1;33m(\u001b[0m\u001b[0mself\u001b[0m\u001b[1;33m,\u001b[0m\u001b[0ma\u001b[0m\u001b[1;33m,\u001b[0m\u001b[0mb\u001b[0m\u001b[1;33m,\u001b[0m\u001b[0mc\u001b[0m \u001b[1;33m=\u001b[0m \u001b[0mnone\u001b[0m\u001b[1;33m)\u001b[0m\u001b[1;33m:\u001b[0m\u001b[1;33m\u001b[0m\u001b[1;33m\u001b[0m\u001b[0m\n\u001b[0m\u001b[0;32m     11\u001b[0m         \u001b[0ms\u001b[0m \u001b[1;33m=\u001b[0m \u001b[0ma\u001b[0m \u001b[1;33m+\u001b[0m \u001b[0mb\u001b[0m \u001b[1;33m+\u001b[0m \u001b[0mc\u001b[0m\u001b[1;33m\u001b[0m\u001b[1;33m\u001b[0m\u001b[0m\n\u001b[0;32m     12\u001b[0m         \u001b[1;32mreturn\u001b[0m \u001b[0ms\u001b[0m\u001b[1;33m\u001b[0m\u001b[1;33m\u001b[0m\u001b[0m\n",
      "\u001b[1;31mNameError\u001b[0m: name 'none' is not defined"
     ]
    }
   ],
   "source": [
    "# New Error above:\n",
    "# One way:\n",
    "\n",
    "class Student:\n",
    "    \n",
    "    def __init__(self,m1,m2):\n",
    "        self.m1 = m1\n",
    "        self.m2 = m2\n",
    "        \n",
    "    def sum(self,a,b,c = none):\n",
    "        s = a + b + c\n",
    "        return s\n",
    "    \n",
    "s1 = Student(58,69)\n",
    "\n",
    "print(s1.sum(5,9))"
   ]
  },
  {
   "cell_type": "code",
   "execution_count": 107,
   "id": "63d3fdcb",
   "metadata": {},
   "outputs": [],
   "source": [
    "# Sir said we can use none where we got non-default argument follows default argument."
   ]
  },
  {
   "cell_type": "code",
   "execution_count": 108,
   "id": "92108613",
   "metadata": {},
   "outputs": [],
   "source": [
    "# Other way we can use variable length arguments.\n",
    "# First none method:"
   ]
  },
  {
   "cell_type": "code",
   "execution_count": 112,
   "id": "307616f1",
   "metadata": {},
   "outputs": [
    {
     "name": "stdout",
     "output_type": "stream",
     "text": [
      "24\n"
     ]
    }
   ],
   "source": [
    "class Student:\n",
    "    \n",
    "    def __init__(self,m1,m2):\n",
    "        self.m1 = m1\n",
    "        self.m2 = m2\n",
    "        \n",
    "    def sum(self,a = None,b = None,c = None): # All the values are by default none which means if If no values are passed, the default values will be none: print(s1.sum())\n",
    "        s = a + b + c\n",
    "        return s\n",
    "    \n",
    "s1 = Student(58,69)\n",
    "\n",
    "print(s1.sum(5,9,10)) # For 3 values it'll work as these 3 values will be assigned to a,b,c respectively. So, None will be replaced by these values.\n"
   ]
  },
  {
   "cell_type": "code",
   "execution_count": 117,
   "id": "47419d22",
   "metadata": {},
   "outputs": [
    {
     "name": "stdout",
     "output_type": "stream",
     "text": [
      "24\n",
      "14\n",
      "5\n",
      "0\n"
     ]
    }
   ],
   "source": [
    "# Now, what if you're passing only 2 values, in this case we need to check because of an error mismatch between none and int.\n",
    "\n",
    "class Student:\n",
    "    \n",
    "    def __init__(self,m1,m2):\n",
    "        self.m1 = m1\n",
    "        self.m2 = m2\n",
    "        \n",
    "    def sum(self,a = None,b = None,c = None): # Default arguments. Type is diff but because of dynamic typing it works imo.\n",
    "        \n",
    "        s = 0 # It is declared outside the if because we can use it anywhere # Or can use in 0 parameters condition directly\n",
    "        \n",
    "        if a != None and b != None and c != None: # This means we are passing 3 arguments.\n",
    "            s = a + b + c\n",
    "        elif a != None and b != None:\n",
    "            s = a + b\n",
    "        elif a != None: # Only else if not using 0 parameters.\n",
    "            s = a\n",
    "        \n",
    "        return s\n",
    "    \n",
    "s1 = Student(58,69)\n",
    "\n",
    "print(s1.sum(5,9,10))\n",
    "print(s1.sum(5,9))\n",
    "print(s1.sum(5))\n",
    "print(s1.sum())"
   ]
  },
  {
   "cell_type": "code",
   "execution_count": 118,
   "id": "26e68ed0",
   "metadata": {},
   "outputs": [],
   "source": [
    "# So, the above is known as method overloading. Cannot do it directly in Python."
   ]
  },
  {
   "cell_type": "code",
   "execution_count": 124,
   "id": "a574516a",
   "metadata": {},
   "outputs": [
    {
     "name": "stdout",
     "output_type": "stream",
     "text": [
      "In B show\n"
     ]
    }
   ],
   "source": [
    "# Method Overriding: # Later used in Interfaces, Abstract Classes.\n",
    "# Eg:\n",
    "\n",
    "class A:\n",
    "    \n",
    "    def show(self):\n",
    "        print(\"In A show.\")\n",
    "        \n",
    "class B(A):\n",
    "    \n",
    "    def show(self):\n",
    "        print(\"In B show\")\n",
    "    \n",
    "b1 = B()\n",
    "b1.show() #  it will first search for the method inside B, if we don't have that in B it will go to A to search it.\n",
    "# when we were not having show inside B it was going to A now since we have show inside B it will print this show of B. So, the\n",
    "# show method of B overrides the show method of A."
   ]
  },
  {
   "cell_type": "code",
   "execution_count": 125,
   "id": "ada49b15",
   "metadata": {},
   "outputs": [],
   "source": [
    "# Abstract Classes and Abstract Methods in Python:\n",
    "\n",
    "# Python by default don't support abstract classes you will not see this support directly but we have a module which is\n",
    "# ABC module which we can use here to achieve abstract classes. ABC stands for abstract base classes.\n",
    "\n",
    "# what is abstract class and why do we need it:\n",
    "# what:"
   ]
  },
  {
   "cell_type": "code",
   "execution_count": 126,
   "id": "ef8b1adb",
   "metadata": {},
   "outputs": [],
   "source": [
    "class Computer:\n",
    "    def process(show):\n",
    "        pass\n",
    "        \n",
    "# whenever your method has a body it's a normal method and normal methods are in the normal classes but what if I don't want to\n",
    "# mention anything inside this method I want to keep it blank I just want to declare this method now when I say declare it\n",
    "# means it doesn't have a body right now the way you can declare a method is by saying pass so when you say pass it then it\n",
    "# simply means I don't have anything inside this method now methods which only has a declaration but not definition we call them\n",
    "# as abstract methods and a class which will have abstract methods is called an abstract class. \n",
    "\n",
    "# Also, we cannot create an object of an abstract class.\n",
    "com = Computer()\n",
    "com.process()"
   ]
  },
  {
   "cell_type": "code",
   "execution_count": 127,
   "id": "5943126a",
   "metadata": {},
   "outputs": [
    {
     "ename": "TypeError",
     "evalue": "Can't instantiate abstract class Computer with abstract method process",
     "output_type": "error",
     "traceback": [
      "\u001b[1;31m---------------------------------------------------------------------------\u001b[0m",
      "\u001b[1;31mTypeError\u001b[0m                                 Traceback (most recent call last)",
      "\u001b[1;32m~\\AppData\\Local\\Temp/ipykernel_6180/3571029240.py\u001b[0m in \u001b[0;36m<module>\u001b[1;34m\u001b[0m\n\u001b[0;32m     10\u001b[0m         \u001b[1;32mpass\u001b[0m\u001b[1;33m\u001b[0m\u001b[1;33m\u001b[0m\u001b[0m\n\u001b[0;32m     11\u001b[0m \u001b[1;33m\u001b[0m\u001b[0m\n\u001b[1;32m---> 12\u001b[1;33m \u001b[0mcom\u001b[0m \u001b[1;33m=\u001b[0m \u001b[0mComputer\u001b[0m\u001b[1;33m(\u001b[0m\u001b[1;33m)\u001b[0m\u001b[1;33m\u001b[0m\u001b[1;33m\u001b[0m\u001b[0m\n\u001b[0m\u001b[0;32m     13\u001b[0m \u001b[0mcom\u001b[0m\u001b[1;33m.\u001b[0m\u001b[0mprocess\u001b[0m\u001b[1;33m(\u001b[0m\u001b[1;33m)\u001b[0m\u001b[1;33m\u001b[0m\u001b[1;33m\u001b[0m\u001b[0m\n",
      "\u001b[1;31mTypeError\u001b[0m: Can't instantiate abstract class Computer with abstract method process"
     ]
    }
   ],
   "source": [
    "# But, this works we are able to create an object because this isn't an abstract class yet. Now to make it an abtract class, we\n",
    "# need to import a module:\n",
    "\n",
    "from abc import ABC, abstractmethod\n",
    "\n",
    "class Computer(ABC): # Now we make our class the subclass of ABC so that our class also becomes an abstract class:\n",
    "    \n",
    "    @abstractmethod # We use a decorator to make this method an abstract method. Using decorator we can mention that this process which is a method is abstract - so we are talking to a compiler about it.\n",
    "    def process(show):\n",
    "        pass\n",
    "    \n",
    "com = Computer()\n",
    "com.process()"
   ]
  },
  {
   "cell_type": "code",
   "execution_count": 128,
   "id": "5339b385",
   "metadata": {},
   "outputs": [],
   "source": [
    "# The above error is good as we cannot create an object of an abstract class because we have a method which is not defined."
   ]
  },
  {
   "cell_type": "code",
   "execution_count": 129,
   "id": "541780b1",
   "metadata": {},
   "outputs": [
    {
     "ename": "TypeError",
     "evalue": "Can't instantiate abstract class Laptop with abstract method process",
     "output_type": "error",
     "traceback": [
      "\u001b[1;31m---------------------------------------------------------------------------\u001b[0m",
      "\u001b[1;31mTypeError\u001b[0m                                 Traceback (most recent call last)",
      "\u001b[1;32m~\\AppData\\Local\\Temp/ipykernel_6180/227528427.py\u001b[0m in \u001b[0;36m<module>\u001b[1;34m\u001b[0m\n\u001b[0;32m      4\u001b[0m \u001b[1;31m# What happens if I don't define a method in Laptop class.\u001b[0m\u001b[1;33m\u001b[0m\u001b[1;33m\u001b[0m\u001b[0m\n\u001b[0;32m      5\u001b[0m \u001b[1;33m\u001b[0m\u001b[0m\n\u001b[1;32m----> 6\u001b[1;33m \u001b[0ml1\u001b[0m \u001b[1;33m=\u001b[0m \u001b[0mLaptop\u001b[0m\u001b[1;33m(\u001b[0m\u001b[1;33m)\u001b[0m\u001b[1;33m\u001b[0m\u001b[1;33m\u001b[0m\u001b[0m\n\u001b[0m",
      "\u001b[1;31mTypeError\u001b[0m: Can't instantiate abstract class Laptop with abstract method process"
     ]
    }
   ],
   "source": [
    "class Laptop(Computer):\n",
    "    pass\n",
    "\n",
    "# What happens if I don't define a method in Laptop class.\n",
    "\n",
    "l1 = Laptop()"
   ]
  },
  {
   "cell_type": "code",
   "execution_count": 130,
   "id": "16f0e796",
   "metadata": {},
   "outputs": [],
   "source": [
    "# Laptop is inheriting an abstract class Computer in which we have an abstract method, so now it is compulsion for me to define\n",
    "# that method otherwise Laptop is also an abstract class."
   ]
  },
  {
   "cell_type": "code",
   "execution_count": 131,
   "id": "83a26a10",
   "metadata": {},
   "outputs": [],
   "source": [
    "class Laptop(Computer):\n",
    "    def process(show):\n",
    "        print(\"It is running\")"
   ]
  },
  {
   "cell_type": "code",
   "execution_count": 132,
   "id": "ecbefbc4",
   "metadata": {},
   "outputs": [
    {
     "name": "stdout",
     "output_type": "stream",
     "text": [
      "It is running\n"
     ]
    }
   ],
   "source": [
    "# Now, it works.\n",
    "l1 = Laptop()\n",
    "l1.process()"
   ]
  },
  {
   "cell_type": "code",
   "execution_count": 133,
   "id": "7716bc73",
   "metadata": {},
   "outputs": [],
   "source": [
    "# You can create a class and that class will implement all the abstract methods - that's important and if you fail to implement\n",
    "# all the abstract methods you will get an error now this is what an abstract class is. Abstract class will have at least one\n",
    "# abstract method - that's important."
   ]
  },
  {
   "cell_type": "code",
   "execution_count": 134,
   "id": "d7311256",
   "metadata": {},
   "outputs": [],
   "source": [
    "# In the real life: what about abstract classes because see if you look at these last two statements we are calling a method\n",
    "# which is process and then this process is getting called from laptop so what is important here is a laptop class, what do you\n",
    "# think is a use of this computer class anyway so even if I remove that it will not make any difference right I can simply\n",
    "# remove this computer as extends and it surely works. This thing makes sense only when your class computer has some extra\n",
    "# methods which laptops needs, what if you have two methods here or three methods here and laptop is taking those methods\n",
    "# directly then it makes sense to use a computer but what if your class only has abstract methods does it make any sense so the\n",
    "# answer is yes it makes sense only when you are designing an application in an OOPs way so basically when you follow the \n",
    "# concept of object-oriented programming you have to follow some patterns and one of the pattern is let's say if you have a lot\n",
    "# of classes example let's say if you talk about a programmer:"
   ]
  },
  {
   "cell_type": "code",
   "execution_count": 138,
   "id": "1f3c52d5",
   "metadata": {},
   "outputs": [
    {
     "name": "stdout",
     "output_type": "stream",
     "text": [
      "It is running\n",
      "Solving Bugs\n",
      "It is running\n"
     ]
    }
   ],
   "source": [
    "from abc import ABC, abstractmethod\n",
    "\n",
    "class Computer(ABC): \n",
    "    @abstractmethod\n",
    "    def process(show):\n",
    "        pass\n",
    "\n",
    "class Laptop(Computer):\n",
    "    def process(show):\n",
    "        print(\"It is running\")    \n",
    "    \n",
    "class Whiteboard:\n",
    "    def write(self):\n",
    "        print(\"It's writing\")\n",
    "\n",
    "class Programmer:\n",
    "    def work(self, com): # Object passed of type computer. Now this com can be anything this can be a laptop, desktop, mobile phone, white board.\n",
    "        print(\"Solving Bugs\")\n",
    "        com.process()\n",
    "       \n",
    "l1 = Laptop()\n",
    "l1.process()    \n",
    "\n",
    "prog1 = Programmer() \n",
    "prog1.work(l1) # No problem as\n",
    "\n",
    "# as a programmer you need a machine to work with - you can't work on paper - Programmer write codes on laptop, desktop, etc -\n",
    "# so we ofc we need a computer here."
   ]
  },
  {
   "cell_type": "code",
   "execution_count": 139,
   "id": "dae71385",
   "metadata": {},
   "outputs": [
    {
     "name": "stdout",
     "output_type": "stream",
     "text": [
      "Solving Bugs\n"
     ]
    },
    {
     "ename": "AttributeError",
     "evalue": "'Whiteboard' object has no attribute 'process'",
     "output_type": "error",
     "traceback": [
      "\u001b[1;31m---------------------------------------------------------------------------\u001b[0m",
      "\u001b[1;31mAttributeError\u001b[0m                            Traceback (most recent call last)",
      "\u001b[1;32m~\\AppData\\Local\\Temp/ipykernel_6180/915940723.py\u001b[0m in \u001b[0;36m<module>\u001b[1;34m\u001b[0m\n\u001b[0;32m      1\u001b[0m \u001b[0mw1\u001b[0m \u001b[1;33m=\u001b[0m \u001b[0mWhiteboard\u001b[0m\u001b[1;33m(\u001b[0m\u001b[1;33m)\u001b[0m\u001b[1;33m\u001b[0m\u001b[1;33m\u001b[0m\u001b[0m\n\u001b[1;32m----> 2\u001b[1;33m \u001b[0mprog1\u001b[0m\u001b[1;33m.\u001b[0m\u001b[0mwork\u001b[0m\u001b[1;33m(\u001b[0m\u001b[0mw1\u001b[0m\u001b[1;33m)\u001b[0m\u001b[1;33m\u001b[0m\u001b[1;33m\u001b[0m\u001b[0m\n\u001b[0m",
      "\u001b[1;32m~\\AppData\\Local\\Temp/ipykernel_6180/2867247636.py\u001b[0m in \u001b[0;36mwork\u001b[1;34m(self, com)\u001b[0m\n\u001b[0;32m     17\u001b[0m     \u001b[1;32mdef\u001b[0m \u001b[0mwork\u001b[0m\u001b[1;33m(\u001b[0m\u001b[0mself\u001b[0m\u001b[1;33m,\u001b[0m \u001b[0mcom\u001b[0m\u001b[1;33m)\u001b[0m\u001b[1;33m:\u001b[0m \u001b[1;31m# Object passed of type computer. Now this com can be anything this can be a laptop, desktop, mobile phone, white board.\u001b[0m\u001b[1;33m\u001b[0m\u001b[1;33m\u001b[0m\u001b[0m\n\u001b[0;32m     18\u001b[0m         \u001b[0mprint\u001b[0m\u001b[1;33m(\u001b[0m\u001b[1;34m\"Solving Bugs\"\u001b[0m\u001b[1;33m)\u001b[0m\u001b[1;33m\u001b[0m\u001b[1;33m\u001b[0m\u001b[0m\n\u001b[1;32m---> 19\u001b[1;33m         \u001b[0mcom\u001b[0m\u001b[1;33m.\u001b[0m\u001b[0mprocess\u001b[0m\u001b[1;33m(\u001b[0m\u001b[1;33m)\u001b[0m\u001b[1;33m\u001b[0m\u001b[1;33m\u001b[0m\u001b[0m\n\u001b[0m\u001b[0;32m     20\u001b[0m \u001b[1;33m\u001b[0m\u001b[0m\n\u001b[0;32m     21\u001b[0m \u001b[0ml1\u001b[0m \u001b[1;33m=\u001b[0m \u001b[0mLaptop\u001b[0m\u001b[1;33m(\u001b[0m\u001b[1;33m)\u001b[0m\u001b[1;33m\u001b[0m\u001b[1;33m\u001b[0m\u001b[0m\n",
      "\u001b[1;31mAttributeError\u001b[0m: 'Whiteboard' object has no attribute 'process'"
     ]
    }
   ],
   "source": [
    "w1 = Whiteboard()\n",
    "prog1.work(w1)"
   ]
  },
  {
   "cell_type": "code",
   "execution_count": 140,
   "id": "c414b5e4",
   "metadata": {},
   "outputs": [],
   "source": [
    "# We got the above error because Whiteboard class doesn't have a method named process.\n",
    "\n",
    "# There is no compulsion for a Whiteboard to implement or to have that method which is process right and if you say hey \n",
    "# Whiteboard is a Computer in this case: Whiteboard(Computer) - Whiteboard inherits Computer it becomes compulsion for this\n",
    "# Whiteboard to have this method which is process so that's the design aspect right. It is not that you can't write a code\n",
    "# without abstract classes but then sometimes it also depends upon the design the way you design your application of the way\n",
    "# you design your classes. So this is one way of defining a class right you can create an abstract class so that the other\n",
    "# classes will be having some signature or some restriction to which methods to define. Example when you define APIs so you can\n",
    "# create an API if someone wants to use your API they have defined all the methods right so that's how we use abstract classes\n",
    "# that's how we use abstract methods and it's not that you can only have one abstract method you can have multiple abstract\n",
    "# methods and you can also have normal methods there.\n",
    "\n",
    "# Recap: abstract class has at least one abstract method inside it. Abstract methods  are methods which doesn't have a \n",
    "# definition it only has a declaration and if you want to use them in Python since Python by default does not support them\n",
    "# you need to import a module which is ABC which stands for abstract base classes."
   ]
  }
 ],
 "metadata": {
  "kernelspec": {
   "display_name": "Python 3 (ipykernel)",
   "language": "python",
   "name": "python3"
  },
  "language_info": {
   "codemirror_mode": {
    "name": "ipython",
    "version": 3
   },
   "file_extension": ".py",
   "mimetype": "text/x-python",
   "name": "python",
   "nbconvert_exporter": "python",
   "pygments_lexer": "ipython3",
   "version": "3.9.7"
  }
 },
 "nbformat": 4,
 "nbformat_minor": 5
}
