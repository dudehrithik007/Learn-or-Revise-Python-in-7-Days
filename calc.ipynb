{
 "cells": [
  {
   "cell_type": "code",
   "execution_count": 1,
   "id": "dda88c6e",
   "metadata": {},
   "outputs": [],
   "source": [
    "# Separate Module for Calculations"
   ]
  },
  {
   "cell_type": "code",
   "execution_count": 2,
   "id": "d791c593",
   "metadata": {},
   "outputs": [],
   "source": [
    "def add(a,b):\n",
    "    return a+b\n",
    "\n",
    "def subtract(a,b):\n",
    "    return a-b\n",
    "\n",
    "def multiply(a,b):\n",
    "    return a*b\n",
    "\n",
    "def divide(a,b):\n",
    "    return a/b"
   ]
  },
  {
   "cell_type": "code",
   "execution_count": 4,
   "id": "2e3a7063",
   "metadata": {},
   "outputs": [],
   "source": [
    "# Now I wanna use these functions in the Day 5 file/module\n",
    "# We have used inbuilt modules using import keyword.\n",
    "# User-Defined Modules also follow the same import rules."
   ]
  },
  {
   "cell_type": "code",
   "execution_count": 9,
   "id": "346aaa3b",
   "metadata": {},
   "outputs": [
    {
     "name": "stdout",
     "output_type": "stream",
     "text": [
      "Hello __main__\n"
     ]
    }
   ],
   "source": [
    "# Special Variable\n",
    "print(\"Hello \" + __name__)"
   ]
  },
  {
   "cell_type": "code",
   "execution_count": null,
   "id": "37947fb5",
   "metadata": {},
   "outputs": [],
   "source": []
  }
 ],
 "metadata": {
  "kernelspec": {
   "display_name": "Python 3 (ipykernel)",
   "language": "python",
   "name": "python3"
  },
  "language_info": {
   "codemirror_mode": {
    "name": "ipython",
    "version": 3
   },
   "file_extension": ".py",
   "mimetype": "text/x-python",
   "name": "python",
   "nbconvert_exporter": "python",
   "pygments_lexer": "ipython3",
   "version": "3.9.7"
  }
 },
 "nbformat": 4,
 "nbformat_minor": 5
}
